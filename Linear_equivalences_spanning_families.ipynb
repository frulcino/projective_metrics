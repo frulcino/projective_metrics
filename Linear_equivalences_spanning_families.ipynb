{
 "cells": [
  {
   "cell_type": "code",
   "execution_count": 1,
   "metadata": {},
   "outputs": [
    {
     "name": "stdout",
     "output_type": "stream",
     "text": [
      "[\n",
      "(1, 0),\n",
      "(0, 1)\n",
      "]\n",
      "[(0, 0), (0, 0), (0, 0), (0, 0), (1, 0), (0, 1), (1, 1), (1, 3), (2, 0), (0, 2), (2, 2), (2, 6), (3, 0), (0, 3), (3, 3), (3, 2), (4, 0), (0, 4), (4, 4), (4, 5), (5, 0), (0, 5), (5, 5), (5, 1), (6, 0), (0, 6), (6, 6), (6, 4)]\n",
      "0\n"
     ]
    }
   ],
   "source": [
    "q = 7\n",
    "n = 2\n",
    "\n",
    "V = GF(q)^n\n",
    "print(V.basis())\n",
    "\n",
    "common_vector = V((1,1))\n",
    "w1 = V((1,2))\n",
    "w2 = V((1,3))\n",
    "\n",
    "# F1 = {100, 010, 001, 111, w1}\n",
    "# list of scalar multiples of vectors in family F2 = {100, 010, 001, 111, w2}\n",
    "vector_list = [lam*v for lam in GF(q) for v in V.basis()+[common_vector,w2]]\n",
    "print(vector_list)\n",
    "\n",
    "counter = 0\n",
    "\n",
    "import itertools\n",
    "\n",
    "for rows in itertools.product(*(n*[vector_list])):\n",
    "    M = Matrix(GF(q),[row for row in rows])  # create linear map  100..|-> v1,  010..|-> v2,...\n",
    "        \n",
    "    if M.rank()==n and common_vector*M in vector_list< and w1*M in vector_list:\n",
    "        print(M,common_vector*M, w1*M,\"\\n\")\n",
    "        counter += 1\n",
    "            \n",
    "print(counter)"
   ]
  },
  {
   "cell_type": "code",
   "execution_count": 3,
   "metadata": {},
   "outputs": [
    {
     "name": "stdout",
     "output_type": "stream",
     "text": [
      "[\n",
      "(1, 0, 0),\n",
      "(0, 1, 0),\n",
      "(0, 0, 1)\n",
      "]\n",
      "[(0, 0, 0), (0, 0, 0), (0, 0, 0), (0, 0, 0), (0, 0, 0), (1, 0, 0), (0, 1, 0), (0, 0, 1), (1, 1, 1), (1, 1, 3), (2, 0, 0), (0, 2, 0), (0, 0, 2), (2, 2, 2), (2, 2, 6), (3, 0, 0), (0, 3, 0), (0, 0, 3), (3, 3, 3), (3, 3, 2), (4, 0, 0), (0, 4, 0), (0, 0, 4), (4, 4, 4), (4, 4, 5), (5, 0, 0), (0, 5, 0), (0, 0, 5), (5, 5, 5), (5, 5, 1), (6, 0, 0), (0, 6, 0), (0, 0, 6), (6, 6, 6), (6, 6, 4)]\n",
      "0\n"
     ]
    }
   ],
   "source": [
    "q = 7\n",
    "n = 3\n",
    "\n",
    "V = GF(q)^n\n",
    "print(V.basis())\n",
    "\n",
    "common_vector = V((1,1,1))\n",
    "w1 = V((1,1,2))\n",
    "w2 = V((1,1,3))\n",
    "\n",
    "# F1 = {100, 010, 001, 111, w1}\n",
    "# list of scalar multiples of vectors in family F2 = {100, 010, 001, 111, w2}\n",
    "vector_list = [lam*v for lam in GF(q) for v in V.basis()+[common_vector,w2]]\n",
    "print(vector_list)\n",
    "\n",
    "counter = 0\n",
    "\n",
    "import itertools\n",
    "\n",
    "for rows in itertools.product(*(n*[vector_list])):\n",
    "    M = Matrix(GF(q),[row for row in rows])  # create linear map  100..|-> v1,  010..|-> v2,...\n",
    "        \n",
    "    if M.rank()==n and common_vector*M in vector_list and w1*M in vector_list:\n",
    "        print(M,common_vector*M, w1*M,\"\\n\")\n",
    "        counter += 1\n",
    "            \n",
    "print(counter)"
   ]
  },
  {
   "cell_type": "code",
   "execution_count": 173,
   "metadata": {},
   "outputs": [
    {
     "name": "stdout",
     "output_type": "stream",
     "text": [
      "[\n",
      "(1, 0, 0, 0),\n",
      "(0, 1, 0, 0),\n",
      "(0, 0, 1, 0),\n",
      "(0, 0, 0, 1)\n",
      "]\n",
      "[(0, 0, 0, 0), (0, 0, 0, 0), (0, 0, 0, 0), (0, 0, 0, 0), (0, 0, 0, 0), (0, 0, 0, 0), (1, 0, 0, 0), (0, 1, 0, 0), (0, 0, 1, 0), (0, 0, 0, 1), (1, 1, 1, 1), (1, 1, 1, 3), (2, 0, 0, 0), (0, 2, 0, 0), (0, 0, 2, 0), (0, 0, 0, 2), (2, 2, 2, 2), (2, 2, 2, 6), (3, 0, 0, 0), (0, 3, 0, 0), (0, 0, 3, 0), (0, 0, 0, 3), (3, 3, 3, 3), (3, 3, 3, 2), (4, 0, 0, 0), (0, 4, 0, 0), (0, 0, 4, 0), (0, 0, 0, 4), (4, 4, 4, 4), (4, 4, 4, 5), (5, 0, 0, 0), (0, 5, 0, 0), (0, 0, 5, 0), (0, 0, 0, 5), (5, 5, 5, 5), (5, 5, 5, 1), (6, 0, 0, 0), (0, 6, 0, 0), (0, 0, 6, 0), (0, 0, 0, 6), (6, 6, 6, 6), (6, 6, 6, 4)]\n",
      "0\n"
     ]
    }
   ],
   "source": [
    "q = 7\n",
    "n = 4\n",
    "\n",
    "V = GF(q)^n\n",
    "print(V.basis())\n",
    "\n",
    "common_vector = V((1,1,1,1))\n",
    "w1 = V((1,1,1,2))\n",
    "w2 = V((1,1,1,3))\n",
    "\n",
    "# F1 = {100, 010, 001, 111, w1}\n",
    "# list of scalar multiples of vectors in family F2 = {100, 010, 001, 111, w2}\n",
    "vector_list = [lam*v for lam in GF(q) for v in V.basis()+[common_vector,w2]]\n",
    "print(vector_list)\n",
    "\n",
    "counter = 0\n",
    "\n",
    "import itertools\n",
    "\n",
    "for rows in itertools.product(*(n*[vector_list])):\n",
    "    M = Matrix(GF(q),[row for row in rows])  # create linear map  100..|-> v1,  010..|-> v2,...\n",
    "        \n",
    "    if M.rank()==n and common_vector*M in vector_list and w1*M in vector_list:\n",
    "        print(M,common_vector*M, w1*M,\"\\n\")\n",
    "        counter += 1\n",
    "            \n",
    "print(counter)"
   ]
  }
 ],
 "metadata": {
  "kernelspec": {
   "display_name": "SageMath 9.0",
   "language": "sage",
   "name": "sagemath"
  },
  "language_info": {
   "codemirror_mode": {
    "name": "ipython",
    "version": 3
   },
   "file_extension": ".py",
   "mimetype": "text/x-python",
   "name": "python",
   "nbconvert_exporter": "python",
   "pygments_lexer": "ipython3",
   "version": "3.8.10"
  }
 },
 "nbformat": 4,
 "nbformat_minor": 4
}
