{
 "cells": [
  {
   "cell_type": "code",
   "execution_count": 1,
   "metadata": {
    "vscode": {
     "languageId": "sage"
    }
   },
   "outputs": [],
   "source": [
    "from sage.geometry.hyperplane_arrangement.affine_subspace import AffineSubspace\n",
    "from itertools import combinations\n",
    "import itertools\n",
    "\n",
    "#TODO:\n",
    "#F_weight can be improved by pre computing C"
   ]
  },
  {
   "cell_type": "markdown",
   "metadata": {},
   "source": [
    "# Basic Implementations\n"
   ]
  },
  {
   "cell_type": "code",
   "execution_count": 2,
   "metadata": {
    "vscode": {
     "languageId": "sage"
    }
   },
   "outputs": [],
   "source": [
    "# Helper functions\n",
    "def F_Weight(v,F, phi = False, C = False): #Usable for all f-metrics in general\n",
    "    #v must be a vector and F a matrix in the correct field having as rows the spanning family\n",
    "    #the F_wwight of v is the coset weight of the counter image of v\n",
    "    if phi == False:\n",
    "        phi = linear_transformation(F)\n",
    "    if C == False:\n",
    "        C = F.kernel()\n",
    "    \n",
    "    #counterimage of v\n",
    "    x = phi.lift(v)\n",
    "    \n",
    "    #calculate minimum weight\n",
    "    m = x.hamming_weight()\n",
    "    \n",
    "    for c in C:\n",
    "        y = x + c\n",
    "        m_y = y.hamming_weight()\n",
    "        \n",
    "        if m_y < m:\n",
    "            m = m_y\n",
    "    \n",
    "    return m\n",
    "\n",
    "def F_MinimumDistance(Gamma,F): #Usable for all f-metrics in general\n",
    "    #Gamma must be a linear code, F as above \n",
    "    #it's better to calculate the various spans of F and see when an element it's in them\n",
    "    m = F.nrows()\n",
    "    phi = linear_transformation(F)\n",
    "    C = F.kernel()\n",
    "    \n",
    "    for x in Gamma: #how do i only check the projective elements? this can be hard to calculate for large codes!\n",
    "        \n",
    "        m_x = F_Weight(x,F, phi = phi, C = C)\n",
    "        print(\"new x, m_x and m\", x, m_x, m) #debug\n",
    "        if m_x < m and not(x == 0):\n",
    "            m = m_x\n",
    "        if m==1:\n",
    "            return m\n",
    "        \n",
    "    return m\n",
    "\n",
    "\n",
    "def Is_FMDS(Gamma, F):  #For Phase rotation metric, or if u_F is known\n",
    "    #Gamma must be a linear code, \n",
    "   #I assume F is of a Phase metric, u_F distribution otherwise \n",
    "    \n",
    "    if Gamma.dimension() == 0:\n",
    "        return True\n",
    "    else:\n",
    "        bold_N = F.nrows()\n",
    "        N = F.ncols()\n",
    "        u=list(range(0,N+1))\n",
    "        k = Gamma.dimension()\n",
    "        d = F_MinimumDistance(Gamma, F)\n",
    "        print(u)\n",
    "        print(\"d, N,  u(d-1), k are:\",d,N,u[d-1],k)\n",
    "    \n",
    "        return k == N - u[d-1]\n",
    "\n",
    "def hamming_sphere(N, r, q):\n",
    "    \"\"\"\n",
    "    A generator function to iteratively produce vectors of hamming weight r\n",
    "    \n",
    "    Parameters:\n",
    "    - N: The length of the vectors.\n",
    "    - r: The weight of the vector\n",
    "    - q: the cardinality of the finite field\n",
    "    \"\"\"\n",
    "    #chose r indices for not null coordinates\n",
    "    for indices in combinations(range(N), r):\n",
    "        # Generate all possible values for these positions\n",
    "        for coordinates in product(range(q-1), repeat=r):\n",
    "            # Start with a vector of all zeros\n",
    "            v = [0] * N\n",
    "            # Update the vector at the specified indices\n",
    "            for i, index in enumerate(indices):\n",
    "                v[index] = coordinates[i] + 1  # +1 because range(q-1) starts from 0\n",
    "            yield vector(GF(q),v)\n",
    "            \n",
    "def sphere_F(F,r,q):\n",
    "    \"\"\"\n",
    "    Given the matrix associated to a parent function F over the field q\n",
    "    returns the set containing the vectors of weight r.\n",
    "    \"\"\"\n",
    "    N = F.ncols()  # parent space dimension\n",
    "\n",
    "    # Initialize an empty set to store the vectors\n",
    "    X = set()\n",
    "\n",
    "    for v in hamming_sphere(N,r,q):\n",
    "        phi_v = F*v\n",
    "        phi_v.set_immutable()\n",
    "        X.add(phi_v)\n",
    "\n",
    "    return Set(X)"
   ]
  },
  {
   "cell_type": "markdown",
   "metadata": {},
   "source": [
    "# Dual Codes\n",
    "In this section we test some possible definitions of dual codes such as the F_dual: taking the orthogonal of the pre image of a code and then taking it's image via a parent function or the H_dual: the usual dual.\n",
    "In conclusion with neither of these definitions we have some of the proprieties which characterize dual codes in the hamming metric. For example, the F_dual of an FMDS code (Maximum distance separable respect to the $\\mathcal{F}$-metric ) is in general not FMDS."
   ]
  },
  {
   "cell_type": "markdown",
   "metadata": {},
   "source": [
    "\n",
    "\n",
    "To construct an example:\n",
    "q >= bold_N=N+1   and large k\n",
    "\n",
    "Where:\n",
    "q: is the cardinality of the finite field\n",
    "bold_N: is the size of the spanning family defining the projective metric\n",
    "N: is the size of the vector space the projective metric is defined on\n",
    "k: \n",
    "\n",
    "examples tabe    | data        |  F_dual FMDS    | H_dual FMDS    |is the intersection of C and C_ort empty\n",
    "\n",
    "q, bold_N, N, k = 7, 5, 4, 4   |    False        |    False       |         True\n",
    "\n",
    "q, bold_N, N, k = 7, 7, 6, 5   |     True        |    False       |         False\n",
    "\n",
    "q,bold_N, N, k = 8,  8, 7, 6   |     True        |    False       |         False\n",
    "\n",
    "q,bold_N, N, k =11, 9, 8, 7    |     False       |    False       |         True\n",
    "\n",
    "q, bold_N, N, k = 11, 10, 9, 7 |     True        |    True        |         True\n",
    "\n",
    "q, bold_N, N, k = 11, 11, 10, 7|     True        |    False       |         False\n",
    "\n",
    "q, bold_N, N, k = 11, 11, 10, 8|     True        |    False       |         False\n",
    "\n",
    "q, bold_N, N, k = 11, 10, 9, 8 |     True        |    True        |         True\n",
    "\n",
    "\n",
    "\n",
    "q, bold_N, N, k = 13, 9, 8, 7  |     False       |    False       |        True\n",
    "\n",
    "q, bold_N, N, k = 13, 10, 9, 8 |     False       |    False       |        True\n",
    "\n",
    "q, bold_N, N, k = 13, 11, 10, 8|     False       |    False       |        True\n",
    "\n",
    "q, bold_N, N, k = 16, 11, 10, 8|     False       |    False       |        True\n",
    "\n",
    "q, bold_N, N, k = 16, 12, 11, 9|     False       |    False       |        False\n",
    "\n",
    "\n",
    "\n",
    "\n",
    "Conjecture:\n",
    "When q==bold_N the F-dual of FMDS is FMDS\n",
    "\n",
    "\n",
    "\n",
    "\n",
    "\n"
   ]
  },
  {
   "cell_type": "code",
   "execution_count": 1,
   "metadata": {
    "vscode": {
     "languageId": "sage"
    }
   },
   "outputs": [
    {
     "name": "stdout",
     "output_type": "stream",
     "text": [
      "[0, 1, 2, 3, 4]\n",
      "True 2 2\n"
     ]
    }
   ],
   "source": [
    "# parameters\n",
    "\n",
    "\n",
    "q, bold_N, N, k = 7, 5, 4, 4 \n",
    "\n",
    "\n",
    "Fq.<a> = GF(q, modulus=\"primitive\")\n",
    "\n",
    "\n",
    "evaluation_points = Fq.list()[:bold_N]; evaluation_points\n",
    "\n",
    "print(evaluation_points)\n",
    "\n",
    "# To get an FMDS code from the image of an MDS the following must be true: d_H(D)<=floor(d_H(C)-1/2)\n",
    "# In such case gamma should always be and FMDS with this program\n",
    "print(bold_N-k+1 <= floor((bold_N-1)/2),bold_N-k+1,floor((bold_N-1)/2))"
   ]
  },
  {
   "cell_type": "code",
   "execution_count": 2,
   "metadata": {
    "vscode": {
     "languageId": "sage"
    }
   },
   "outputs": [
    {
     "name": "stdout",
     "output_type": "stream",
     "text": [
      "Is C + C^orth = F_q^(bold N)? True\n"
     ]
    }
   ],
   "source": [
    "# map phi with parent code as kernel\n",
    "# check if the intersection is empty\n",
    "\n",
    "phi_mat = Matrix(Fq, matrix.identity(N).rows() + [-1*ones_matrix(1, N).rows()[0]])\n",
    "phi = linear_transformation(phi_mat)\n",
    "C=LinearCode(phi.kernel())\n",
    "G_C=C.generator_matrix()\n",
    "G_Cort=C.dual_code().generator_matrix()\n",
    "print(\"Is C + C^orth = F_q^(bold N)?\",rank(G_C.stack(G_Cort))==bold_N)\n",
    "\n",
    "\n",
    "\n"
   ]
  },
  {
   "cell_type": "code",
   "execution_count": null,
   "metadata": {
    "vscode": {
     "languageId": "sage"
    }
   },
   "outputs": [],
   "source": []
  },
  {
   "cell_type": "code",
   "execution_count": null,
   "metadata": {
    "vscode": {
     "languageId": "sage"
    }
   },
   "outputs": [
    {
     "name": "stdout",
     "output_type": "stream",
     "text": [
      "[1 1 1 1 1]\n",
      "[0 1 2 3 4]\n",
      "[0 1 4 2 2]\n",
      "[0 1 1 6 1]\n"
     ]
    }
   ],
   "source": [
    "# Reed-Solomon (RS) code\n",
    "\n",
    "D = codes.GeneralizedReedSolomonCode(evaluation_points, k)\n",
    "G = D.generator_matrix() \n",
    "print(G)"
   ]
  },
  {
   "cell_type": "code",
   "execution_count": null,
   "metadata": {
    "vscode": {
     "languageId": "sage"
    }
   },
   "outputs": [
    {
     "name": "stdout",
     "output_type": "stream",
     "text": [
      "[1 0 0 2]\n",
      "[0 1 0 6]\n",
      "[0 0 1 5]\n",
      "new x, m_x and m (0, 0, 0, 0) 0 5\n",
      "new x, m_x and m (1, 0, 0, 2) 2 5\n",
      "new x, m_x and m (2, 0, 0, 4) 2 2\n",
      "new x, m_x and m (3, 0, 0, 6) 2 2\n",
      "new x, m_x and m (4, 0, 0, 1) 2 2\n",
      "new x, m_x and m (5, 0, 0, 3) 2 2\n",
      "new x, m_x and m (6, 0, 0, 5) 2 2\n",
      "new x, m_x and m (0, 1, 0, 6) 2 2\n",
      "new x, m_x and m (1, 1, 0, 1) 2 2\n",
      "new x, m_x and m (2, 1, 0, 3) 3 2\n",
      "new x, m_x and m (3, 1, 0, 5) 3 2\n",
      "new x, m_x and m (4, 1, 0, 0) 2 2\n",
      "new x, m_x and m (5, 1, 0, 2) 3 2\n",
      "new x, m_x and m (6, 1, 0, 4) 3 2\n",
      "new x, m_x and m (0, 2, 0, 5) 2 2\n",
      "new x, m_x and m (1, 2, 0, 0) 2 2\n",
      "new x, m_x and m (2, 2, 0, 2) 2 2\n",
      "new x, m_x and m (3, 2, 0, 4) 3 2\n",
      "new x, m_x and m (4, 2, 0, 6) 3 2\n",
      "new x, m_x and m (5, 2, 0, 1) 3 2\n",
      "new x, m_x and m (6, 2, 0, 3) 3 2\n",
      "new x, m_x and m (0, 3, 0, 4) 2 2\n",
      "new x, m_x and m (1, 3, 0, 6) 3 2\n",
      "new x, m_x and m (2, 3, 0, 1) 3 2\n",
      "new x, m_x and m (3, 3, 0, 3) 2 2\n",
      "new x, m_x and m (4, 3, 0, 5) 3 2\n",
      "new x, m_x and m (5, 3, 0, 0) 2 2\n",
      "new x, m_x and m (6, 3, 0, 2) 3 2\n",
      "new x, m_x and m (0, 4, 0, 3) 2 2\n",
      "new x, m_x and m (1, 4, 0, 5) 3 2\n",
      "new x, m_x and m (2, 4, 0, 0) 2 2\n",
      "new x, m_x and m (3, 4, 0, 2) 3 2\n",
      "new x, m_x and m (4, 4, 0, 4) 2 2\n",
      "new x, m_x and m (5, 4, 0, 6) 3 2\n",
      "new x, m_x and m (6, 4, 0, 1) 3 2\n",
      "new x, m_x and m (0, 5, 0, 2) 2 2\n",
      "new x, m_x and m (1, 5, 0, 4) 3 2\n",
      "new x, m_x and m (2, 5, 0, 6) 3 2\n",
      "new x, m_x and m (3, 5, 0, 1) 3 2\n",
      "new x, m_x and m (4, 5, 0, 3) 3 2\n",
      "new x, m_x and m (5, 5, 0, 5) 2 2\n",
      "new x, m_x and m (6, 5, 0, 0) 2 2\n",
      "new x, m_x and m (0, 6, 0, 1) 2 2\n",
      "new x, m_x and m (1, 6, 0, 3) 3 2\n",
      "new x, m_x and m (2, 6, 0, 5) 3 2\n",
      "new x, m_x and m (3, 6, 0, 0) 2 2\n",
      "new x, m_x and m (4, 6, 0, 2) 3 2\n",
      "new x, m_x and m (5, 6, 0, 4) 3 2\n",
      "new x, m_x and m (6, 6, 0, 6) 2 2\n",
      "new x, m_x and m (0, 0, 1, 5) 2 2\n",
      "new x, m_x and m (1, 0, 1, 0) 2 2\n",
      "new x, m_x and m (2, 0, 1, 2) 3 2\n",
      "new x, m_x and m (3, 0, 1, 4) 3 2\n",
      "new x, m_x and m (4, 0, 1, 6) 3 2\n",
      "new x, m_x and m (5, 0, 1, 1) 3 2\n",
      "new x, m_x and m (6, 0, 1, 3) 3 2\n",
      "new x, m_x and m (0, 1, 1, 4) 3 2\n",
      "new x, m_x and m (1, 1, 1, 6) 2 2\n",
      "new x, m_x and m (2, 1, 1, 1) 2 2\n",
      "new x, m_x and m (3, 1, 1, 3) 3 2\n",
      "new x, m_x and m (4, 1, 1, 5) 3 2\n",
      "new x, m_x and m (5, 1, 1, 0) 3 2\n",
      "new x, m_x and m (6, 1, 1, 2) 3 2\n",
      "new x, m_x and m (0, 2, 1, 3) 3 2\n",
      "new x, m_x and m (1, 2, 1, 5) 3 2\n",
      "new x, m_x and m (2, 2, 1, 0) 3 2\n",
      "new x, m_x and m (3, 2, 1, 2) 3 2\n",
      "new x, m_x and m (4, 2, 1, 4) 3 2\n",
      "new x, m_x and m (5, 2, 1, 6) 4 2\n",
      "new x, m_x and m (6, 2, 1, 1) 3 2\n",
      "new x, m_x and m (0, 3, 1, 2) 3 2\n",
      "new x, m_x and m (1, 3, 1, 4) 3 2\n",
      "new x, m_x and m (2, 3, 1, 6) 4 2\n",
      "new x, m_x and m (3, 3, 1, 1) 3 2\n",
      "new x, m_x and m (4, 3, 1, 3) 3 2\n",
      "new x, m_x and m (5, 3, 1, 5) 3 2\n",
      "new x, m_x and m (6, 3, 1, 0) 3 2\n",
      "new x, m_x and m (0, 4, 1, 1) 3 2\n",
      "new x, m_x and m (1, 4, 1, 3) 3 2\n",
      "new x, m_x and m (2, 4, 1, 5) 4 2\n",
      "new x, m_x and m (3, 4, 1, 0) 3 2\n",
      "new x, m_x and m (4, 4, 1, 2) 3 2\n",
      "new x, m_x and m (5, 4, 1, 4) 3 2\n",
      "new x, m_x and m (6, 4, 1, 6) 3 2\n",
      "new x, m_x and m (0, 5, 1, 0) 2 2\n",
      "new x, m_x and m (1, 5, 1, 2) 3 2\n",
      "new x, m_x and m (2, 5, 1, 4) 4 2\n",
      "new x, m_x and m (3, 5, 1, 6) 4 2\n",
      "new x, m_x and m (4, 5, 1, 1) 3 2\n",
      "new x, m_x and m (5, 5, 1, 3) 3 2\n",
      "new x, m_x and m (6, 5, 1, 5) 3 2\n",
      "new x, m_x and m (0, 6, 1, 6) 3 2\n",
      "new x, m_x and m (1, 6, 1, 1) 2 2\n",
      "new x, m_x and m (2, 6, 1, 3) 4 2\n",
      "new x, m_x and m (3, 6, 1, 5) 4 2\n",
      "new x, m_x and m (4, 6, 1, 0) 3 2\n",
      "new x, m_x and m (5, 6, 1, 2) 4 2\n",
      "new x, m_x and m (6, 6, 1, 4) 3 2\n",
      "new x, m_x and m (0, 0, 2, 3) 2 2\n",
      "new x, m_x and m (1, 0, 2, 5) 3 2\n",
      "new x, m_x and m (2, 0, 2, 0) 2 2\n",
      "new x, m_x and m (3, 0, 2, 2) 3 2\n",
      "new x, m_x and m (4, 0, 2, 4) 3 2\n",
      "new x, m_x and m (5, 0, 2, 6) 3 2\n",
      "new x, m_x and m (6, 0, 2, 1) 3 2\n",
      "new x, m_x and m (0, 1, 2, 2) 3 2\n",
      "new x, m_x and m (1, 1, 2, 4) 3 2\n",
      "new x, m_x and m (2, 1, 2, 6) 3 2\n",
      "new x, m_x and m (3, 1, 2, 1) 3 2\n",
      "new x, m_x and m (4, 1, 2, 3) 4 2\n",
      "new x, m_x and m (5, 1, 2, 5) 3 2\n",
      "new x, m_x and m (6, 1, 2, 0) 3 2\n",
      "new x, m_x and m (0, 2, 2, 1) 3 2\n",
      "new x, m_x and m (1, 2, 2, 3) 3 2\n",
      "new x, m_x and m (2, 2, 2, 5) 2 2\n",
      "new x, m_x and m (3, 2, 2, 0) 3 2\n",
      "new x, m_x and m (4, 2, 2, 2) 2 2\n",
      "new x, m_x and m (5, 2, 2, 4) 3 2\n",
      "new x, m_x and m (6, 2, 2, 6) 3 2\n",
      "new x, m_x and m (0, 3, 2, 0) 2 2\n",
      "new x, m_x and m (1, 3, 2, 2) 3 2\n",
      "new x, m_x and m (2, 3, 2, 4) 3 2\n",
      "new x, m_x and m (3, 3, 2, 6) 3 2\n",
      "new x, m_x and m (4, 3, 2, 1) 4 2\n",
      "new x, m_x and m (5, 3, 2, 3) 3 2\n",
      "new x, m_x and m (6, 3, 2, 5) 4 2\n",
      "new x, m_x and m (0, 4, 2, 6) 3 2\n",
      "new x, m_x and m (1, 4, 2, 1) 3 2\n",
      "new x, m_x and m (2, 4, 2, 3) 3 2\n",
      "new x, m_x and m (3, 4, 2, 5) 4 2\n",
      "new x, m_x and m (4, 4, 2, 0) 3 2\n",
      "new x, m_x and m (5, 4, 2, 2) 3 2\n",
      "new x, m_x and m (6, 4, 2, 4) 3 2\n",
      "new x, m_x and m (0, 5, 2, 5) 3 2\n",
      "new x, m_x and m (1, 5, 2, 0) 3 2\n",
      "new x, m_x and m (2, 5, 2, 2) 2 2\n",
      "new x, m_x and m (3, 5, 2, 4) 4 2\n",
      "new x, m_x and m (4, 5, 2, 6) 4 2\n",
      "new x, m_x and m (5, 5, 2, 1) 3 2\n",
      "new x, m_x and m (6, 5, 2, 3) 4 2\n",
      "new x, m_x and m (0, 6, 2, 4) 3 2\n",
      "new x, m_x and m (1, 6, 2, 6) 3 2\n",
      "new x, m_x and m (2, 6, 2, 1) 3 2\n",
      "new x, m_x and m (3, 6, 2, 3) 3 2\n",
      "new x, m_x and m (4, 6, 2, 5) 4 2\n",
      "new x, m_x and m (5, 6, 2, 0) 3 2\n",
      "new x, m_x and m (6, 6, 2, 2) 3 2\n",
      "new x, m_x and m (0, 0, 3, 1) 2 2\n",
      "new x, m_x and m (1, 0, 3, 3) 3 2\n",
      "new x, m_x and m (2, 0, 3, 5) 3 2\n",
      "new x, m_x and m (3, 0, 3, 0) 2 2\n",
      "new x, m_x and m (4, 0, 3, 2) 3 2\n",
      "new x, m_x and m (5, 0, 3, 4) 3 2\n",
      "new x, m_x and m (6, 0, 3, 6) 3 2\n",
      "new x, m_x and m (0, 1, 3, 0) 2 2\n",
      "new x, m_x and m (1, 1, 3, 2) 3 2\n",
      "new x, m_x and m (2, 1, 3, 4) 4 2\n",
      "new x, m_x and m (3, 1, 3, 6) 3 2\n",
      "new x, m_x and m (4, 1, 3, 1) 3 2\n",
      "new x, m_x and m (5, 1, 3, 3) 3 2\n",
      "new x, m_x and m (6, 1, 3, 5) 4 2\n",
      "new x, m_x and m (0, 2, 3, 6) 3 2\n",
      "new x, m_x and m (1, 2, 3, 1) 3 2\n",
      "new x, m_x and m (2, 2, 3, 3) 3 2\n",
      "new x, m_x and m (3, 2, 3, 5) 3 2\n",
      "new x, m_x and m (4, 2, 3, 0) 3 2\n",
      "new x, m_x and m (5, 2, 3, 2) 3 2\n",
      "new x, m_x and m (6, 2, 3, 4) 4 2\n",
      "new x, m_x and m (0, 3, 3, 5) 3 2\n",
      "new x, m_x and m (1, 3, 3, 0) 3 2\n",
      "new x, m_x and m (2, 3, 3, 2) 3 2\n",
      "new x, m_x and m (3, 3, 3, 4) 2 2\n",
      "new x, m_x and m (4, 3, 3, 6) 3 2\n",
      "new x, m_x and m (5, 3, 3, 1) 3 2\n",
      "new x, m_x and m (6, 3, 3, 3) 2 2\n",
      "new x, m_x and m (0, 4, 3, 4) 3 2\n",
      "new x, m_x and m (1, 4, 3, 6) 4 2\n",
      "new x, m_x and m (2, 4, 3, 1) 4 2\n",
      "new x, m_x and m (3, 4, 3, 3) 2 2\n",
      "new x, m_x and m (4, 4, 3, 5) 3 2\n",
      "new x, m_x and m (5, 4, 3, 0) 3 2\n",
      "new x, m_x and m (6, 4, 3, 2) 4 2\n",
      "new x, m_x and m (0, 5, 3, 3) 3 2\n",
      "new x, m_x and m (1, 5, 3, 5) 3 2\n",
      "new x, m_x and m (2, 5, 3, 0) 3 2\n",
      "new x, m_x and m (3, 5, 3, 2) 3 2\n",
      "new x, m_x and m (4, 5, 3, 4) 3 2\n",
      "new x, m_x and m (5, 5, 3, 6) 3 2\n",
      "new x, m_x and m (6, 5, 3, 1) 4 2\n",
      "new x, m_x and m (0, 6, 3, 2) 3 2\n",
      "new x, m_x and m (1, 6, 3, 4) 4 2\n",
      "new x, m_x and m (2, 6, 3, 6) 3 2\n",
      "new x, m_x and m (3, 6, 3, 1) 3 2\n",
      "new x, m_x and m (4, 6, 3, 3) 3 2\n",
      "new x, m_x and m (5, 6, 3, 5) 3 2\n",
      "new x, m_x and m (6, 6, 3, 0) 3 2\n",
      "new x, m_x and m (0, 0, 4, 6) 2 2\n",
      "new x, m_x and m (1, 0, 4, 1) 3 2\n",
      "new x, m_x and m (2, 0, 4, 3) 3 2\n",
      "new x, m_x and m (3, 0, 4, 5) 3 2\n",
      "new x, m_x and m (4, 0, 4, 0) 2 2\n",
      "new x, m_x and m (5, 0, 4, 2) 3 2\n",
      "new x, m_x and m (6, 0, 4, 4) 3 2\n",
      "new x, m_x and m (0, 1, 4, 5) 3 2\n",
      "new x, m_x and m (1, 1, 4, 0) 3 2\n",
      "new x, m_x and m (2, 1, 4, 2) 3 2\n",
      "new x, m_x and m (3, 1, 4, 4) 3 2\n",
      "new x, m_x and m (4, 1, 4, 6) 3 2\n",
      "new x, m_x and m (5, 1, 4, 1) 3 2\n",
      "new x, m_x and m (6, 1, 4, 3) 4 2\n",
      "new x, m_x and m (0, 2, 4, 4) 3 2\n",
      "new x, m_x and m (1, 2, 4, 6) 4 2\n",
      "new x, m_x and m (2, 2, 4, 1) 3 2\n",
      "new x, m_x and m (3, 2, 4, 3) 3 2\n",
      "new x, m_x and m (4, 2, 4, 5) 3 2\n",
      "new x, m_x and m (5, 2, 4, 0) 3 2\n",
      "new x, m_x and m (6, 2, 4, 2) 3 2\n",
      "new x, m_x and m (0, 3, 4, 3) 3 2\n",
      "new x, m_x and m (1, 3, 4, 5) 4 2\n",
      "new x, m_x and m (2, 3, 4, 0) 3 2\n",
      "new x, m_x and m (3, 3, 4, 2) 3 2\n",
      "new x, m_x and m (4, 3, 4, 4) 2 2\n",
      "new x, m_x and m (5, 3, 4, 6) 4 2\n",
      "new x, m_x and m (6, 3, 4, 1) 4 2\n",
      "new x, m_x and m (0, 4, 4, 2) 3 2\n",
      "new x, m_x and m (1, 4, 4, 4) 2 2\n",
      "new x, m_x and m (2, 4, 4, 6) 3 2\n",
      "new x, m_x and m (3, 4, 4, 1) 3 2\n",
      "new x, m_x and m (4, 4, 4, 3) 2 2\n",
      "new x, m_x and m (5, 4, 4, 5) 3 2\n",
      "new x, m_x and m (6, 4, 4, 0) 3 2\n",
      "new x, m_x and m (0, 5, 4, 1) 3 2\n",
      "new x, m_x and m (1, 5, 4, 3) 4 2\n",
      "new x, m_x and m (2, 5, 4, 5) 3 2\n",
      "new x, m_x and m (3, 5, 4, 0) 3 2\n",
      "new x, m_x and m (4, 5, 4, 2) 3 2\n",
      "new x, m_x and m (5, 5, 4, 4) 3 2\n",
      "new x, m_x and m (6, 5, 4, 6) 3 2\n",
      "new x, m_x and m (0, 6, 4, 0) 2 2\n",
      "new x, m_x and m (1, 6, 4, 2) 4 2\n",
      "new x, m_x and m (2, 6, 4, 4) 3 2\n",
      "new x, m_x and m (3, 6, 4, 6) 3 2\n",
      "new x, m_x and m (4, 6, 4, 1) 3 2\n",
      "new x, m_x and m (5, 6, 4, 3) 4 2\n",
      "new x, m_x and m (6, 6, 4, 5) 3 2\n",
      "new x, m_x and m (0, 0, 5, 4) 2 2\n",
      "new x, m_x and m (1, 0, 5, 6) 3 2\n",
      "new x, m_x and m (2, 0, 5, 1) 3 2\n",
      "new x, m_x and m (3, 0, 5, 3) 3 2\n",
      "new x, m_x and m (4, 0, 5, 5) 3 2\n",
      "new x, m_x and m (5, 0, 5, 0) 2 2\n",
      "new x, m_x and m (6, 0, 5, 2) 3 2\n",
      "new x, m_x and m (0, 1, 5, 3) 3 2\n",
      "new x, m_x and m (1, 1, 5, 5) 3 2\n",
      "new x, m_x and m (2, 1, 5, 0) 3 2\n",
      "new x, m_x and m (3, 1, 5, 2) 4 2\n",
      "new x, m_x and m (4, 1, 5, 4) 3 2\n",
      "new x, m_x and m (5, 1, 5, 6) 3 2\n",
      "new x, m_x and m (6, 1, 5, 1) 3 2\n",
      "new x, m_x and m (0, 2, 5, 2) 3 2\n",
      "new x, m_x and m (1, 2, 5, 4) 4 2\n",
      "new x, m_x and m (2, 2, 5, 6) 3 2\n",
      "new x, m_x and m (3, 2, 5, 1) 4 2\n",
      "new x, m_x and m (4, 2, 5, 3) 4 2\n",
      "new x, m_x and m (5, 2, 5, 5) 2 2\n",
      "new x, m_x and m (6, 2, 5, 0) 3 2\n",
      "new x, m_x and m (0, 3, 5, 1) 3 2\n",
      "new x, m_x and m (1, 3, 5, 3) 3 2\n",
      "new x, m_x and m (2, 3, 5, 5) 3 2\n",
      "new x, m_x and m (3, 3, 5, 0) 3 2\n",
      "new x, m_x and m (4, 3, 5, 2) 4 2\n",
      "new x, m_x and m (5, 3, 5, 4) 3 2\n",
      "new x, m_x and m (6, 3, 5, 6) 3 2\n",
      "new x, m_x and m (0, 4, 5, 0) 2 2\n",
      "new x, m_x and m (1, 4, 5, 2) 4 2\n",
      "new x, m_x and m (2, 4, 5, 4) 3 2\n",
      "new x, m_x and m (3, 4, 5, 6) 4 2\n",
      "new x, m_x and m (4, 4, 5, 1) 3 2\n",
      "new x, m_x and m (5, 4, 5, 3) 3 2\n",
      "new x, m_x and m (6, 4, 5, 5) 3 2\n",
      "new x, m_x and m (0, 5, 5, 6) 3 2\n",
      "new x, m_x and m (1, 5, 5, 1) 3 2\n",
      "new x, m_x and m (2, 5, 5, 3) 3 2\n",
      "new x, m_x and m (3, 5, 5, 5) 2 2\n",
      "new x, m_x and m (4, 5, 5, 0) 3 2\n",
      "new x, m_x and m (5, 5, 5, 2) 2 2\n",
      "new x, m_x and m (6, 5, 5, 4) 3 2\n",
      "new x, m_x and m (0, 6, 5, 5) 3 2\n",
      "new x, m_x and m (1, 6, 5, 0) 3 2\n",
      "new x, m_x and m (2, 6, 5, 2) 3 2\n",
      "new x, m_x and m (3, 6, 5, 4) 4 2\n",
      "new x, m_x and m (4, 6, 5, 6) 3 2\n",
      "new x, m_x and m (5, 6, 5, 1) 3 2\n",
      "new x, m_x and m (6, 6, 5, 3) 3 2\n",
      "new x, m_x and m (0, 0, 6, 2) 2 2\n",
      "new x, m_x and m (1, 0, 6, 4) 3 2\n",
      "new x, m_x and m (2, 0, 6, 6) 3 2\n",
      "new x, m_x and m (3, 0, 6, 1) 3 2\n",
      "new x, m_x and m (4, 0, 6, 3) 3 2\n",
      "new x, m_x and m (5, 0, 6, 5) 3 2\n",
      "new x, m_x and m (6, 0, 6, 0) 2 2\n",
      "new x, m_x and m (0, 1, 6, 1) 3 2\n",
      "new x, m_x and m (1, 1, 6, 3) 3 2\n",
      "new x, m_x and m (2, 1, 6, 5) 4 2\n",
      "new x, m_x and m (3, 1, 6, 0) 3 2\n",
      "new x, m_x and m (4, 1, 6, 2) 4 2\n",
      "new x, m_x and m (5, 1, 6, 4) 4 2\n",
      "new x, m_x and m (6, 1, 6, 6) 2 2\n",
      "new x, m_x and m (0, 2, 6, 0) 2 2\n",
      "new x, m_x and m (1, 2, 6, 2) 3 2\n",
      "new x, m_x and m (2, 2, 6, 4) 3 2\n",
      "new x, m_x and m (3, 2, 6, 6) 3 2\n",
      "new x, m_x and m (4, 2, 6, 1) 4 2\n",
      "new x, m_x and m (5, 2, 6, 3) 4 2\n",
      "new x, m_x and m (6, 2, 6, 5) 3 2\n",
      "new x, m_x and m (0, 3, 6, 6) 3 2\n",
      "new x, m_x and m (1, 3, 6, 1) 3 2\n",
      "new x, m_x and m (2, 3, 6, 3) 3 2\n",
      "new x, m_x and m (3, 3, 6, 5) 3 2\n",
      "new x, m_x and m (4, 3, 6, 0) 3 2\n",
      "new x, m_x and m (5, 3, 6, 2) 4 2\n",
      "new x, m_x and m (6, 3, 6, 4) 3 2\n",
      "new x, m_x and m (0, 4, 6, 5) 3 2\n",
      "new x, m_x and m (1, 4, 6, 0) 3 2\n",
      "new x, m_x and m (2, 4, 6, 2) 3 2\n",
      "new x, m_x and m (3, 4, 6, 4) 3 2\n",
      "new x, m_x and m (4, 4, 6, 6) 3 2\n",
      "new x, m_x and m (5, 4, 6, 1) 4 2\n",
      "new x, m_x and m (6, 4, 6, 3) 3 2\n",
      "new x, m_x and m (0, 5, 6, 4) 3 2\n",
      "new x, m_x and m (1, 5, 6, 6) 3 2\n",
      "new x, m_x and m (2, 5, 6, 1) 4 2\n",
      "new x, m_x and m (3, 5, 6, 3) 3 2\n",
      "new x, m_x and m (4, 5, 6, 5) 3 2\n",
      "new x, m_x and m (5, 5, 6, 0) 3 2\n",
      "new x, m_x and m (6, 5, 6, 2) 3 2\n",
      "new x, m_x and m (0, 6, 6, 3) 3 2\n",
      "new x, m_x and m (1, 6, 6, 5) 3 2\n",
      "new x, m_x and m (2, 6, 6, 0) 3 2\n",
      "new x, m_x and m (3, 6, 6, 2) 3 2\n",
      "new x, m_x and m (4, 6, 6, 4) 3 2\n",
      "new x, m_x and m (5, 6, 6, 6) 2 2\n",
      "new x, m_x and m (6, 6, 6, 1) 2 2\n",
      "[0, 1, 2, 3, 4]\n",
      "d, N,  u(d-1), k are: 2 4 1 3\n",
      "Is Gamma FMDS? True\n"
     ]
    }
   ],
   "source": [
    "# phi(RS-code)\n",
    "\n",
    "\n",
    "\n",
    "gamma = LinearCode(G*phi_mat)\n",
    "G_gamma = gamma.generator_matrix().echelon_form()\n",
    "print(G_gamma)\n",
    "\n",
    "\n",
    "\n",
    "print(\"Is Gamma FMDS?\", Is_FMDS(gamma, phi_mat)) #should be yes\n"
   ]
  },
  {
   "cell_type": "code",
   "execution_count": null,
   "metadata": {
    "vscode": {
     "languageId": "sage"
    }
   },
   "outputs": [
    {
     "name": "stdout",
     "output_type": "stream",
     "text": [
      "[1 3 6 3 1]\n"
     ]
    }
   ],
   "source": [
    "# RS-code dual\n",
    "\n",
    "D_dual = D.dual_code()\n",
    "G_dual = D_dual.generator_matrix().echelon_form()\n",
    "print(G_dual)\n",
    "\n",
    "\n"
   ]
  },
  {
   "cell_type": "code",
   "execution_count": null,
   "metadata": {
    "vscode": {
     "languageId": "sage"
    }
   },
   "outputs": [
    {
     "name": "stdout",
     "output_type": "stream",
     "text": [
      "[0 1 6 1]\n",
      "new x, m_x and m (0, 0, 0, 0) 0 5\n",
      "new x, m_x and m (0, 2, 5, 2) 3 5\n",
      "new x, m_x and m (0, 4, 3, 4) 3 3\n",
      "new x, m_x and m (0, 6, 1, 6) 3 3\n",
      "new x, m_x and m (0, 1, 6, 1) 3 3\n",
      "new x, m_x and m (0, 3, 4, 3) 3 3\n",
      "new x, m_x and m (0, 5, 2, 5) 3 3\n",
      "[0, 1, 2, 3, 4]\n",
      "d, N,  u(d-1), k are: 3 4 2 1\n",
      "Is the Gamma^d FMDS? False\n"
     ]
    }
   ],
   "source": [
    "# phi(RS-code dual)\n",
    "\n",
    "gamma_dual = LinearCode(G_dual*phi_mat)\n",
    "G_gamma_dual = gamma_dual.generator_matrix().echelon_form()\n",
    "print(G_gamma_dual)\n",
    "\n",
    "print(\"Is the Gamma^d FMDS?\", Is_FMDS(gamma_dual, phi_mat))"
   ]
  },
  {
   "cell_type": "code",
   "execution_count": null,
   "metadata": {
    "vscode": {
     "languageId": "sage"
    }
   },
   "outputs": [
    {
     "name": "stdout",
     "output_type": "stream",
     "text": [
      "[1 3 6 3]\n",
      "4\n",
      "new x, m_x and m (0, 0, 0, 0) 0 5\n",
      "new x, m_x and m (1, 3, 6, 3) 3 5\n",
      "new x, m_x and m (2, 6, 5, 6) 3 3\n",
      "new x, m_x and m (3, 2, 4, 2) 3 3\n",
      "new x, m_x and m (4, 5, 3, 5) 3 3\n",
      "new x, m_x and m (5, 1, 2, 1) 3 3\n",
      "new x, m_x and m (6, 4, 1, 4) 3 3\n",
      "[0, 1, 2, 3, 4]\n",
      "d, N,  u(d-1), k are: 3 4 2 1\n",
      "Is the Orthogonal of Gamma FMDS? False\n"
     ]
    }
   ],
   "source": [
    "# gamma_orthogonal\n",
    "\n",
    "gamma_orthogonal = gamma.dual_code()\n",
    "G_orthogonal=gamma_orthogonal.generator_matrix().echelon_form()\n",
    "print(G_orthogonal)\n",
    "print(gamma_orthogonal.minimum_distance())\n",
    "print(\"Is the Orthogonal of Gamma FMDS?\", Is_FMDS(gamma_orthogonal, phi_mat))"
   ]
  },
  {
   "cell_type": "code",
   "execution_count": null,
   "metadata": {
    "vscode": {
     "languageId": "sage"
    }
   },
   "outputs": [],
   "source": [
    "# MATROID EQUIVALENCE"
   ]
  },
  {
   "cell_type": "code",
   "execution_count": null,
   "metadata": {
    "vscode": {
     "languageId": "sage"
    }
   },
   "outputs": [
    {
     "ename": "TypeError",
     "evalue": "'int' object is not iterable",
     "output_type": "error",
     "traceback": [
      "\u001b[0;31m---------------------------------------------------------------------------\u001b[0m",
      "\u001b[0;31mTypeError\u001b[0m                                 Traceback (most recent call last)",
      "\u001b[0;32m/tmp/ipykernel_4122/4257129214.py\u001b[0m in \u001b[0;36m<module>\u001b[0;34m\u001b[0m\n\u001b[1;32m      7\u001b[0m \u001b[0mG\u001b[0m \u001b[0;34m=\u001b[0m \u001b[0mMatrix\u001b[0m\u001b[0;34m(\u001b[0m\u001b[0mGF\u001b[0m\u001b[0;34m(\u001b[0m\u001b[0mq\u001b[0m\u001b[0;34m)\u001b[0m\u001b[0;34m,\u001b[0m\u001b[0;34m[\u001b[0m\u001b[0;34m[\u001b[0m\u001b[0mInteger\u001b[0m\u001b[0;34m(\u001b[0m\u001b[0;36m0\u001b[0m\u001b[0;34m)\u001b[0m\u001b[0;34m,\u001b[0m \u001b[0mInteger\u001b[0m\u001b[0;34m(\u001b[0m\u001b[0;36m0\u001b[0m\u001b[0;34m)\u001b[0m\u001b[0;34m,\u001b[0m \u001b[0mInteger\u001b[0m\u001b[0;34m(\u001b[0m\u001b[0;36m1\u001b[0m\u001b[0;34m)\u001b[0m\u001b[0;34m]\u001b[0m\u001b[0;34m,\u001b[0m \u001b[0;34m[\u001b[0m\u001b[0mInteger\u001b[0m\u001b[0;34m(\u001b[0m\u001b[0;36m0\u001b[0m\u001b[0;34m)\u001b[0m\u001b[0;34m,\u001b[0m \u001b[0mInteger\u001b[0m\u001b[0;34m(\u001b[0m\u001b[0;36m1\u001b[0m\u001b[0;34m)\u001b[0m\u001b[0;34m,\u001b[0m \u001b[0mInteger\u001b[0m\u001b[0;34m(\u001b[0m\u001b[0;36m0\u001b[0m\u001b[0;34m)\u001b[0m\u001b[0;34m]\u001b[0m\u001b[0;34m,\u001b[0m \u001b[0;34m[\u001b[0m\u001b[0mInteger\u001b[0m\u001b[0;34m(\u001b[0m\u001b[0;36m1\u001b[0m\u001b[0;34m)\u001b[0m\u001b[0;34m,\u001b[0m \u001b[0mInteger\u001b[0m\u001b[0;34m(\u001b[0m\u001b[0;36m0\u001b[0m\u001b[0;34m)\u001b[0m\u001b[0;34m,\u001b[0m \u001b[0mInteger\u001b[0m\u001b[0;34m(\u001b[0m\u001b[0;36m0\u001b[0m\u001b[0;34m)\u001b[0m\u001b[0;34m]\u001b[0m\u001b[0;34m,\u001b[0m \u001b[0;34m[\u001b[0m\u001b[0mInteger\u001b[0m\u001b[0;34m(\u001b[0m\u001b[0;36m1\u001b[0m\u001b[0;34m)\u001b[0m\u001b[0;34m,\u001b[0m \u001b[0mInteger\u001b[0m\u001b[0;34m(\u001b[0m\u001b[0;36m1\u001b[0m\u001b[0;34m)\u001b[0m\u001b[0;34m,\u001b[0m \u001b[0mInteger\u001b[0m\u001b[0;34m(\u001b[0m\u001b[0;36m1\u001b[0m\u001b[0;34m)\u001b[0m\u001b[0;34m]\u001b[0m\u001b[0;34m,\u001b[0m\u001b[0;34m[\u001b[0m\u001b[0mInteger\u001b[0m\u001b[0;34m(\u001b[0m\u001b[0;36m1\u001b[0m\u001b[0;34m)\u001b[0m\u001b[0;34m,\u001b[0m\u001b[0mInteger\u001b[0m\u001b[0;34m(\u001b[0m\u001b[0;36m3\u001b[0m\u001b[0;34m)\u001b[0m\u001b[0;34m,\u001b[0m\u001b[0mInteger\u001b[0m\u001b[0;34m(\u001b[0m\u001b[0;36m2\u001b[0m\u001b[0;34m)\u001b[0m\u001b[0;34m]\u001b[0m\u001b[0;34m]\u001b[0m\u001b[0;34m)\u001b[0m\u001b[0;34m.\u001b[0m\u001b[0mtranspose\u001b[0m\u001b[0;34m(\u001b[0m\u001b[0;34m)\u001b[0m\u001b[0;34m\u001b[0m\u001b[0;34m\u001b[0m\u001b[0m\n\u001b[1;32m      8\u001b[0m \u001b[0;34m\u001b[0m\u001b[0m\n\u001b[0;32m----> 9\u001b[0;31m \u001b[0mB_F\u001b[0m \u001b[0;34m=\u001b[0m \u001b[0msphere_F\u001b[0m\u001b[0;34m(\u001b[0m\u001b[0mF\u001b[0m\u001b[0;34m,\u001b[0m\u001b[0mr\u001b[0m\u001b[0;34m,\u001b[0m\u001b[0mq\u001b[0m\u001b[0;34m)\u001b[0m\u001b[0;34m\u001b[0m\u001b[0;34m\u001b[0m\u001b[0m\n\u001b[0m\u001b[1;32m     10\u001b[0m \u001b[0mB_G\u001b[0m \u001b[0;34m=\u001b[0m \u001b[0msphere_F\u001b[0m\u001b[0;34m(\u001b[0m\u001b[0mG\u001b[0m\u001b[0;34m,\u001b[0m\u001b[0mr\u001b[0m\u001b[0;34m,\u001b[0m\u001b[0mq\u001b[0m\u001b[0;34m)\u001b[0m\u001b[0;34m\u001b[0m\u001b[0;34m\u001b[0m\u001b[0m\n\u001b[1;32m     11\u001b[0m \u001b[0mprint\u001b[0m\u001b[0;34m(\u001b[0m\u001b[0mB_F\u001b[0m\u001b[0;34m.\u001b[0m\u001b[0mcardinality\u001b[0m\u001b[0;34m(\u001b[0m\u001b[0;34m)\u001b[0m\u001b[0;34m,\u001b[0m \u001b[0mB_G\u001b[0m\u001b[0;34m.\u001b[0m\u001b[0mcardinality\u001b[0m\u001b[0;34m(\u001b[0m\u001b[0;34m)\u001b[0m\u001b[0;34m)\u001b[0m\u001b[0;34m\u001b[0m\u001b[0;34m\u001b[0m\u001b[0m\n",
      "\u001b[0;32m/tmp/ipykernel_4122/1989594376.py\u001b[0m in \u001b[0;36msphere_F\u001b[0;34m(F, r, q)\u001b[0m\n\u001b[1;32m     89\u001b[0m     \u001b[0mX\u001b[0m \u001b[0;34m=\u001b[0m \u001b[0mset\u001b[0m\u001b[0;34m(\u001b[0m\u001b[0;34m)\u001b[0m\u001b[0;34m\u001b[0m\u001b[0;34m\u001b[0m\u001b[0m\n\u001b[1;32m     90\u001b[0m \u001b[0;34m\u001b[0m\u001b[0m\n\u001b[0;32m---> 91\u001b[0;31m     \u001b[0;32mfor\u001b[0m \u001b[0mv\u001b[0m \u001b[0;32min\u001b[0m \u001b[0mhamming_sphere\u001b[0m\u001b[0;34m(\u001b[0m\u001b[0mN\u001b[0m\u001b[0;34m,\u001b[0m\u001b[0mr\u001b[0m\u001b[0;34m,\u001b[0m\u001b[0mq\u001b[0m\u001b[0;34m)\u001b[0m\u001b[0;34m:\u001b[0m\u001b[0;34m\u001b[0m\u001b[0;34m\u001b[0m\u001b[0m\n\u001b[0m\u001b[1;32m     92\u001b[0m         \u001b[0mphi_v\u001b[0m \u001b[0;34m=\u001b[0m \u001b[0mF\u001b[0m\u001b[0;34m*\u001b[0m\u001b[0mv\u001b[0m\u001b[0;34m\u001b[0m\u001b[0;34m\u001b[0m\u001b[0m\n\u001b[1;32m     93\u001b[0m         \u001b[0mphi_v\u001b[0m\u001b[0;34m.\u001b[0m\u001b[0mset_immutable\u001b[0m\u001b[0;34m(\u001b[0m\u001b[0;34m)\u001b[0m\u001b[0;34m\u001b[0m\u001b[0;34m\u001b[0m\u001b[0m\n",
      "\u001b[0;32m/tmp/ipykernel_4122/1989594376.py\u001b[0m in \u001b[0;36mhamming_sphere\u001b[0;34m(N, r, q)\u001b[0m\n\u001b[1;32m     71\u001b[0m     \u001b[0;32mfor\u001b[0m \u001b[0mindices\u001b[0m \u001b[0;32min\u001b[0m \u001b[0mcombinations\u001b[0m\u001b[0;34m(\u001b[0m\u001b[0mrange\u001b[0m\u001b[0;34m(\u001b[0m\u001b[0mN\u001b[0m\u001b[0;34m)\u001b[0m\u001b[0;34m,\u001b[0m \u001b[0mr\u001b[0m\u001b[0;34m)\u001b[0m\u001b[0;34m:\u001b[0m\u001b[0;34m\u001b[0m\u001b[0;34m\u001b[0m\u001b[0m\n\u001b[1;32m     72\u001b[0m         \u001b[0;31m# Generate all possible values for these positions\u001b[0m\u001b[0;34m\u001b[0m\u001b[0;34m\u001b[0m\u001b[0m\n\u001b[0;32m---> 73\u001b[0;31m         \u001b[0;32mfor\u001b[0m \u001b[0mcoordinates\u001b[0m \u001b[0;32min\u001b[0m \u001b[0mproduct\u001b[0m\u001b[0;34m(\u001b[0m\u001b[0mrange\u001b[0m\u001b[0;34m(\u001b[0m\u001b[0mq\u001b[0m\u001b[0;34m-\u001b[0m\u001b[0mInteger\u001b[0m\u001b[0;34m(\u001b[0m\u001b[0;36m1\u001b[0m\u001b[0;34m)\u001b[0m\u001b[0;34m)\u001b[0m\u001b[0;34m,\u001b[0m \u001b[0mrepeat\u001b[0m\u001b[0;34m=\u001b[0m\u001b[0mr\u001b[0m\u001b[0;34m)\u001b[0m\u001b[0;34m:\u001b[0m\u001b[0;34m\u001b[0m\u001b[0;34m\u001b[0m\u001b[0m\n\u001b[0m\u001b[1;32m     74\u001b[0m             \u001b[0;31m# Start with a vector of all zeros\u001b[0m\u001b[0;34m\u001b[0m\u001b[0;34m\u001b[0m\u001b[0m\n\u001b[1;32m     75\u001b[0m             \u001b[0mv\u001b[0m \u001b[0;34m=\u001b[0m \u001b[0;34m[\u001b[0m\u001b[0mInteger\u001b[0m\u001b[0;34m(\u001b[0m\u001b[0;36m0\u001b[0m\u001b[0;34m)\u001b[0m\u001b[0;34m]\u001b[0m \u001b[0;34m*\u001b[0m \u001b[0mN\u001b[0m\u001b[0;34m\u001b[0m\u001b[0;34m\u001b[0m\u001b[0m\n",
      "\u001b[0;31mTypeError\u001b[0m: 'int' object is not iterable"
     ]
    }
   ],
   "source": [
    "#Examples of two matroid equivalent projective metrics with different sphere sizes\n",
    "N = 4  # parent space dimension\n",
    "r = 2  # projective sphere radius\n",
    "q = 5 #cardinality of finite field\n",
    "# parent function/matrix\n",
    "F = Matrix(GF(q),[[0, 0, 1], [0, 1, 0], [1, 0, 0], [1, 1, 1],[1,2,2]]).transpose()\n",
    "G = Matrix(GF(q),[[0, 0, 1], [0, 1, 0], [1, 0, 0], [1, 1, 1],[1,3,2]]).transpose()\n",
    "\n",
    "B_F = sphere_F(F,r,q)\n",
    "B_G = sphere_F(G,r,q)\n",
    "print(B_F.cardinality(), B_G.cardinality())"
   ]
  },
  {
   "cell_type": "code",
   "execution_count": null,
   "metadata": {
    "vscode": {
     "languageId": "sage"
    }
   },
   "outputs": [],
   "source": [
    "# Example in which anticode bound and mu bound differ.\n"
   ]
  },
  {
   "cell_type": "code",
   "execution_count": null,
   "metadata": {
    "vscode": {
     "languageId": "sage"
    }
   },
   "outputs": [
    {
     "data": {
      "text/plain": [
       "6"
      ]
     },
     "execution_count": 13,
     "metadata": {},
     "output_type": "execute_result"
    }
   ],
   "source": [
    "q = 2\n",
    "B = Matrix(GF(q),[[1,1,1,1,0,0,1,0,0,0],[1,1,0,0,1,1,0,1,0,0],[0,0,1,1,1,1,0,0,1,0],[1,1,1,1,1,1,0,0,0,1]]).transpose()\n",
    "A = Matrix.identity(10)\n",
    "F = block_matrix(1,2,[B,A])\n",
    "T = Matrix(GF(q),[[1,1,1,1,0,0,0,0,0,0],[1,1,0,0,1,1,0,0,0,0],[0,0,1,1,1,1,0,0,0,0],[1,1,1,1,1,1,0,0,0,0]]).transpose()\n",
    "T = LinearCode(T)\n",
    "\n",
    "phi = linear_transformation(F.transpose())\n",
    "C=LinearCode(phi.kernel())\n",
    "C.minimum_distance() # is 6 this implies that it's no generated by elements in G\n",
    "\n"
   ]
  },
  {
   "cell_type": "markdown",
   "metadata": {},
   "source": [
    "No subset of three in $\\mathcal{F}$ is in ball of size 2.\n",
    "Let $f_1,f_2,f_3 \\in \\mathcal{F}$. Consider $v :=f_1+f_2+f_3$, this has $\\mathcal{F}$-weight two. Thus there exist $f_4,f_5 \\in \\mathcal{F}$ such that\n",
    "$v = f_4 + f_5$. At least one between $f_4$ and $f_5$ is different from $f_i,\\; i \\leq 3$. Thus the minimum distance $\\mathcal{C} = ker(F)$ is smaller than $5$ \n",
    "and this gives a contraddiction."
   ]
  },
  {
   "cell_type": "code",
   "execution_count": null,
   "metadata": {
    "vscode": {
     "languageId": "sage"
    }
   },
   "outputs": [],
   "source": []
  },
  {
   "cell_type": "code",
   "execution_count": null,
   "metadata": {
    "vscode": {
     "languageId": "sage"
    }
   },
   "outputs": [
    {
     "data": {
      "text/plain": [
       "[1 1 0 1|1 0 0 0 0 0 0 0 0 0]\n",
       "[1 1 0 1|0 1 0 0 0 0 0 0 0 0]\n",
       "[1 0 1 1|0 0 1 0 0 0 0 0 0 0]\n",
       "[1 0 1 1|0 0 0 1 0 0 0 0 0 0]\n",
       "[0 1 1 1|0 0 0 0 1 0 0 0 0 0]\n",
       "[0 1 1 1|0 0 0 0 0 1 0 0 0 0]\n",
       "[1 0 0 0|0 0 0 0 0 0 1 0 0 0]\n",
       "[0 1 0 0|0 0 0 0 0 0 0 1 0 0]\n",
       "[0 0 1 0|0 0 0 0 0 0 0 0 1 0]\n",
       "[0 0 0 1|0 0 0 0 0 0 0 0 0 1]"
      ]
     },
     "execution_count": 14,
     "metadata": {},
     "output_type": "execute_result"
    }
   ],
   "source": [
    "F"
   ]
  },
  {
   "cell_type": "markdown",
   "metadata": {
    "vscode": {
     "languageId": "sage"
    }
   },
   "source": [
    "# Projective Matroid Extensions\n",
    "\n",
    "## TODOS\n",
    "- check linear equivalence\n"
   ]
  },
  {
   "cell_type": "code",
   "execution_count": 7,
   "metadata": {
    "vscode": {
     "languageId": "sage"
    }
   },
   "outputs": [],
   "source": [
    "# functions\n",
    "from itertools import combinations\n",
    "import sage.matroids.matroid\n",
    "def generate_unique_vectors_iterator(q,L):\n",
    "    if q < L:\n",
    "        raise ValueError(\"q must be at least L to generate vectors of length 6 with unique coordinates.\")\n",
    "    \n",
    "    # Generate all combinations of 6 distinct integers from the range [2, q-1]\n",
    "    for comb in combinations(range(1, q+1), L):\n",
    "        if 1 in comb:\n",
    "            # Sort each combination to get a unique representation\n",
    "            yield tuple(sorted(comb))\n",
    "\n",
    "def hyperplanes(matroid):\n",
    "    \"\"\"\n",
    "    Given a matroid `matroid`, return all linearly independent sets of size `rank - 1`.\n",
    "\n",
    "    :param matroid: A matroid object in Sage\n",
    "    :return: A list of independent sets of size `rank - 1`\n",
    "    \"\"\"\n",
    "    # Get the rank of the matroid\n",
    "    rank = matroid.rank()\n",
    "    \n",
    "    # Retrieve all independent sets\n",
    "    all_independent_sets = matroid.independent_sets()\n",
    "    \n",
    "    # Filter for independent sets of size rank - 1\n",
    "    independent_sets_size_n_minus_1 = [\n",
    "        s for s in all_independent_sets if len(s) == rank - 1\n",
    "    ]\n",
    "    \n",
    "    return independent_sets_size_n_minus_1\n",
    "\n",
    "\n",
    "\n",
    "def get_hyperplane_vector(HM):\n",
    "    ker = HM.kernel()\n",
    "    hyperplane_vectors = ker.basis()\n",
    "    return hyperplane_vectors\n",
    "\n",
    "def normalize(vector):\n",
    "    Len = len(vector)\n",
    "    for i in range(Len):\n",
    "        if vector[i] != 0:\n",
    "            return vector / vector[i]\n",
    "    return vector\n",
    "\n",
    "\n",
    "# Choose all subsets of columns of size n-1\n",
    "\n",
    "def extended_family(A):\n",
    "    AM = Matroid(A)\n",
    "    #calculate sets of n-1 indipendent vecotrs of the matroid\n",
    "    hps = hyperplanes(AM)\n",
    "    extended_family = []\n",
    "    normal_vectors_list = []\n",
    "    print(\"calculating hyperplane defining vectors...\")\n",
    "    for i in range(len(hps)):\n",
    "        vector = normalize(get_hyperplane_vector(A[:,list(hps[i])])[0])\n",
    "        if vector not in normal_vectors_list:\n",
    "            normal_vectors_list.append(vector)\n",
    "    normal_vectors_matrix = Matrix(GF(q), normal_vectors_list).transpose()\n",
    "    normal_vectors_matroid = Matroid(normal_vectors_matrix)\n",
    "    print(\"calculating sets of n-1 independent hyperplanes...\")\n",
    "    # for any set of n-1 indipendent hyperplanes, calculate intersaction and add it to extended family\n",
    "    hps_normal_vectors = hyperplanes(normal_vectors_matroid)\n",
    "    print(\"calculating intersections...\")\n",
    "    extended_family = []\n",
    "    n_iter = len(hps_normal_vectors) \n",
    "    perc = n_iter//100\n",
    "    for i in range(n_iter):\n",
    "        if i%perc == 0:\n",
    "            print(f\"{i/n_iter * 100}%\")\n",
    "        vector = normalize(normal_vectors_matrix.transpose()[list(hps_normal_vectors[i])].transpose().kernel().basis()[0])\n",
    "        if vector not in extended_family:\n",
    "\n",
    "            extended_family.append(vector)\n",
    "\n",
    "    A_ext = Matrix(GF(q), extended_family).transpose()\n",
    "    A_ext_M = Matroid(A_ext)\n",
    "    return A_ext, A_ext_M\n",
    "\n"
   ]
  },
  {
   "cell_type": "code",
   "execution_count": 11,
   "metadata": {
    "vscode": {
     "languageId": "sage"
    }
   },
   "outputs": [
    {
     "name": "stdout",
     "output_type": "stream",
     "text": [
      "calculating hyperplane defining vectors...\n",
      "calculating sets of n-1 independent hyperplanes...\n",
      "calculating intersections...\n",
      "0.0%\n",
      "0.9999785871822873%\n"
     ]
    },
    {
     "ename": "KeyboardInterrupt",
     "evalue": "",
     "output_type": "error",
     "traceback": [
      "\u001b[0;31m---------------------------------------------------------------------------\u001b[0m",
      "\u001b[0;31mKeyboardInterrupt\u001b[0m                         Traceback (most recent call last)",
      "\u001b[0;32m/tmp/ipykernel_27903/4276880947.py\u001b[0m in \u001b[0;36m<module>\u001b[0;34m\u001b[0m\n\u001b[1;32m     14\u001b[0m \u001b[0mB\u001b[0m \u001b[0;34m=\u001b[0m \u001b[0mMatrix\u001b[0m\u001b[0;34m(\u001b[0m\u001b[0mGF\u001b[0m\u001b[0;34m(\u001b[0m\u001b[0mq\u001b[0m\u001b[0;34m)\u001b[0m\u001b[0;34m,\u001b[0m\u001b[0mL0\u001b[0m\u001b[0;34m)\u001b[0m\u001b[0;34m.\u001b[0m\u001b[0mtranspose\u001b[0m\u001b[0;34m(\u001b[0m\u001b[0;34m)\u001b[0m\u001b[0;34m\u001b[0m\u001b[0;34m\u001b[0m\u001b[0m\n\u001b[1;32m     15\u001b[0m \u001b[0;34m\u001b[0m\u001b[0m\n\u001b[0;32m---> 16\u001b[0;31m \u001b[0mA_ext\u001b[0m\u001b[0;34m,\u001b[0m \u001b[0mA_ext_M\u001b[0m \u001b[0;34m=\u001b[0m \u001b[0mextended_family\u001b[0m\u001b[0;34m(\u001b[0m\u001b[0mA\u001b[0m\u001b[0;34m)\u001b[0m\u001b[0;34m\u001b[0m\u001b[0;34m\u001b[0m\u001b[0m\n\u001b[0m\u001b[1;32m     17\u001b[0m \u001b[0;34m\u001b[0m\u001b[0m\n\u001b[1;32m     18\u001b[0m \u001b[0;31m#penso che le cose create in questo modo non siano linearmente equivalenti\u001b[0m\u001b[0;34m\u001b[0m\u001b[0;34m\u001b[0m\u001b[0m\n",
      "\u001b[0;32m/tmp/ipykernel_27903/2723520627.py\u001b[0m in \u001b[0;36mextended_family\u001b[0;34m(A)\u001b[0m\n\u001b[1;32m     73\u001b[0m             \u001b[0mprint\u001b[0m\u001b[0;34m(\u001b[0m\u001b[0;34mf\"{i/n_iter * Integer(100)}%\"\u001b[0m\u001b[0;34m)\u001b[0m\u001b[0;34m\u001b[0m\u001b[0;34m\u001b[0m\u001b[0m\n\u001b[1;32m     74\u001b[0m         \u001b[0mvector\u001b[0m \u001b[0;34m=\u001b[0m \u001b[0mnormalize\u001b[0m\u001b[0;34m(\u001b[0m\u001b[0mnormal_vectors_matrix\u001b[0m\u001b[0;34m.\u001b[0m\u001b[0mtranspose\u001b[0m\u001b[0;34m(\u001b[0m\u001b[0;34m)\u001b[0m\u001b[0;34m[\u001b[0m\u001b[0mlist\u001b[0m\u001b[0;34m(\u001b[0m\u001b[0mhps_normal_vectors\u001b[0m\u001b[0;34m[\u001b[0m\u001b[0mi\u001b[0m\u001b[0;34m]\u001b[0m\u001b[0;34m)\u001b[0m\u001b[0;34m]\u001b[0m\u001b[0;34m.\u001b[0m\u001b[0mtranspose\u001b[0m\u001b[0;34m(\u001b[0m\u001b[0;34m)\u001b[0m\u001b[0;34m.\u001b[0m\u001b[0mkernel\u001b[0m\u001b[0;34m(\u001b[0m\u001b[0;34m)\u001b[0m\u001b[0;34m.\u001b[0m\u001b[0mbasis\u001b[0m\u001b[0;34m(\u001b[0m\u001b[0;34m)\u001b[0m\u001b[0;34m[\u001b[0m\u001b[0mInteger\u001b[0m\u001b[0;34m(\u001b[0m\u001b[0;36m0\u001b[0m\u001b[0;34m)\u001b[0m\u001b[0;34m]\u001b[0m\u001b[0;34m)\u001b[0m\u001b[0;34m\u001b[0m\u001b[0;34m\u001b[0m\u001b[0m\n\u001b[0;32m---> 75\u001b[0;31m         \u001b[0;32mif\u001b[0m \u001b[0mvector\u001b[0m \u001b[0;32mnot\u001b[0m \u001b[0;32min\u001b[0m \u001b[0mextended_family\u001b[0m\u001b[0;34m:\u001b[0m\u001b[0;34m\u001b[0m\u001b[0;34m\u001b[0m\u001b[0m\n\u001b[0m\u001b[1;32m     76\u001b[0m \u001b[0;34m\u001b[0m\u001b[0m\n\u001b[1;32m     77\u001b[0m             \u001b[0mextended_family\u001b[0m\u001b[0;34m.\u001b[0m\u001b[0mappend\u001b[0m\u001b[0;34m(\u001b[0m\u001b[0mvector\u001b[0m\u001b[0;34m)\u001b[0m\u001b[0;34m\u001b[0m\u001b[0;34m\u001b[0m\u001b[0m\n",
      "\u001b[0;32m/usr/lib/python3/dist-packages/sage/structure/element.pyx\u001b[0m in \u001b[0;36msage.structure.element.Element.__richcmp__ (build/cythonized/sage/structure/element.c:10491)\u001b[0;34m()\u001b[0m\n\u001b[1;32m   1110\u001b[0m             \u001b[0;32mreturn\u001b[0m \u001b[0;34m(\u001b[0m\u001b[0;34m<\u001b[0m\u001b[0mElement\u001b[0m\u001b[0;34m>\u001b[0m\u001b[0mself\u001b[0m\u001b[0;34m)\u001b[0m\u001b[0;34m.\u001b[0m\u001b[0m_richcmp_\u001b[0m\u001b[0;34m(\u001b[0m\u001b[0mother\u001b[0m\u001b[0;34m,\u001b[0m \u001b[0mop\u001b[0m\u001b[0;34m)\u001b[0m\u001b[0;34m\u001b[0m\u001b[0;34m\u001b[0m\u001b[0m\n\u001b[1;32m   1111\u001b[0m         \u001b[0;32melse\u001b[0m\u001b[0;34m:\u001b[0m\u001b[0;34m\u001b[0m\u001b[0;34m\u001b[0m\u001b[0m\n\u001b[0;32m-> 1112\u001b[0;31m             \u001b[0;32mreturn\u001b[0m \u001b[0mcoercion_model\u001b[0m\u001b[0;34m.\u001b[0m\u001b[0mrichcmp\u001b[0m\u001b[0;34m(\u001b[0m\u001b[0mself\u001b[0m\u001b[0;34m,\u001b[0m \u001b[0mother\u001b[0m\u001b[0;34m,\u001b[0m \u001b[0mop\u001b[0m\u001b[0;34m)\u001b[0m\u001b[0;34m\u001b[0m\u001b[0;34m\u001b[0m\u001b[0m\n\u001b[0m\u001b[1;32m   1113\u001b[0m \u001b[0;34m\u001b[0m\u001b[0m\n\u001b[1;32m   1114\u001b[0m     \u001b[0mcpdef\u001b[0m \u001b[0m_richcmp_\u001b[0m\u001b[0;34m(\u001b[0m\u001b[0mleft\u001b[0m\u001b[0;34m,\u001b[0m \u001b[0mright\u001b[0m\u001b[0;34m,\u001b[0m \u001b[0mint\u001b[0m \u001b[0mop\u001b[0m\u001b[0;34m)\u001b[0m\u001b[0;34m:\u001b[0m\u001b[0;34m\u001b[0m\u001b[0;34m\u001b[0m\u001b[0m\n",
      "\u001b[0;32m/usr/lib/python3/dist-packages/sage/structure/coerce.pyx\u001b[0m in \u001b[0;36msage.structure.coerce.CoercionModel.richcmp (build/cythonized/sage/structure/coerce.c:20582)\u001b[0;34m()\u001b[0m\n\u001b[1;32m   1971\u001b[0m         \u001b[0;31m# Coerce to a common parent\u001b[0m\u001b[0;34m\u001b[0m\u001b[0;34m\u001b[0m\u001b[0m\n\u001b[1;32m   1972\u001b[0m         \u001b[0;32mtry\u001b[0m\u001b[0;34m:\u001b[0m\u001b[0;34m\u001b[0m\u001b[0;34m\u001b[0m\u001b[0m\n\u001b[0;32m-> 1973\u001b[0;31m             \u001b[0mx\u001b[0m\u001b[0;34m,\u001b[0m \u001b[0my\u001b[0m \u001b[0;34m=\u001b[0m \u001b[0mself\u001b[0m\u001b[0;34m.\u001b[0m\u001b[0mcanonical_coercion\u001b[0m\u001b[0;34m(\u001b[0m\u001b[0mx\u001b[0m\u001b[0;34m,\u001b[0m \u001b[0my\u001b[0m\u001b[0;34m)\u001b[0m\u001b[0;34m\u001b[0m\u001b[0;34m\u001b[0m\u001b[0m\n\u001b[0m\u001b[1;32m   1974\u001b[0m         \u001b[0;32mexcept\u001b[0m \u001b[0;34m(\u001b[0m\u001b[0mTypeError\u001b[0m\u001b[0;34m,\u001b[0m \u001b[0mNotImplementedError\u001b[0m\u001b[0;34m)\u001b[0m\u001b[0;34m:\u001b[0m\u001b[0;34m\u001b[0m\u001b[0;34m\u001b[0m\u001b[0m\n\u001b[1;32m   1975\u001b[0m             \u001b[0;32mpass\u001b[0m\u001b[0;34m\u001b[0m\u001b[0;34m\u001b[0m\u001b[0m\n",
      "\u001b[0;32m/usr/lib/python3/dist-packages/sage/structure/coerce.pyx\u001b[0m in \u001b[0;36msage.structure.coerce.CoercionModel.canonical_coercion (build/cythonized/sage/structure/coerce.c:12146)\u001b[0;34m()\u001b[0m\n\u001b[1;32m   1305\u001b[0m \u001b[0;34m\u001b[0m\u001b[0m\n\u001b[1;32m   1306\u001b[0m         \u001b[0mcdef\u001b[0m \u001b[0mElement\u001b[0m \u001b[0mx_elt\u001b[0m\u001b[0;34m,\u001b[0m \u001b[0my_elt\u001b[0m\u001b[0;34m\u001b[0m\u001b[0;34m\u001b[0m\u001b[0m\n\u001b[0;32m-> 1307\u001b[0;31m         \u001b[0mcoercions\u001b[0m \u001b[0;34m=\u001b[0m \u001b[0mself\u001b[0m\u001b[0;34m.\u001b[0m\u001b[0mcoercion_maps\u001b[0m\u001b[0;34m(\u001b[0m\u001b[0mxp\u001b[0m\u001b[0;34m,\u001b[0m \u001b[0myp\u001b[0m\u001b[0;34m)\u001b[0m\u001b[0;34m\u001b[0m\u001b[0;34m\u001b[0m\u001b[0m\n\u001b[0m\u001b[1;32m   1308\u001b[0m         \u001b[0;32mif\u001b[0m \u001b[0mcoercions\u001b[0m \u001b[0;32mis\u001b[0m \u001b[0;32mnot\u001b[0m \u001b[0;32mNone\u001b[0m\u001b[0;34m:\u001b[0m\u001b[0;34m\u001b[0m\u001b[0;34m\u001b[0m\u001b[0m\n\u001b[1;32m   1309\u001b[0m             \u001b[0mx_map\u001b[0m\u001b[0;34m,\u001b[0m \u001b[0my_map\u001b[0m \u001b[0;34m=\u001b[0m \u001b[0mcoercions\u001b[0m\u001b[0;34m\u001b[0m\u001b[0;34m\u001b[0m\u001b[0m\n",
      "\u001b[0;32m/usr/lib/python3/dist-packages/sage/structure/coerce.pyx\u001b[0m in \u001b[0;36msage.structure.coerce.CoercionModel.coercion_maps (build/cythonized/sage/structure/coerce.c:14523)\u001b[0;34m()\u001b[0m\n\u001b[1;32m   1510\u001b[0m         \u001b[0;32mexcept\u001b[0m \u001b[0mKeyError\u001b[0m\u001b[0;34m:\u001b[0m\u001b[0;34m\u001b[0m\u001b[0;34m\u001b[0m\u001b[0m\n\u001b[1;32m   1511\u001b[0m             \u001b[0;32mpass\u001b[0m\u001b[0;34m\u001b[0m\u001b[0;34m\u001b[0m\u001b[0m\n\u001b[0;32m-> 1512\u001b[0;31m         \u001b[0mhoms\u001b[0m \u001b[0;34m=\u001b[0m \u001b[0mself\u001b[0m\u001b[0;34m.\u001b[0m\u001b[0mdiscover_coercion\u001b[0m\u001b[0;34m(\u001b[0m\u001b[0mR\u001b[0m\u001b[0;34m,\u001b[0m \u001b[0mS\u001b[0m\u001b[0;34m)\u001b[0m\u001b[0;34m\u001b[0m\u001b[0;34m\u001b[0m\u001b[0m\n\u001b[0m\u001b[1;32m   1513\u001b[0m         \u001b[0;32mif\u001b[0m \u001b[0;36m0\u001b[0m\u001b[0;34m:\u001b[0m\u001b[0;34m\u001b[0m\u001b[0;34m\u001b[0m\u001b[0m\n\u001b[1;32m   1514\u001b[0m             \u001b[0;31m# This breaks too many things that are going to change\u001b[0m\u001b[0;34m\u001b[0m\u001b[0;34m\u001b[0m\u001b[0m\n",
      "\u001b[0;32m/usr/lib/python3/dist-packages/sage/structure/coerce.pyx\u001b[0m in \u001b[0;36msage.structure.coerce.CoercionModel.discover_coercion (build/cythonized/sage/structure/coerce.c:16918)\u001b[0;34m()\u001b[0m\n\u001b[1;32m   1675\u001b[0m                 \u001b[0mZ\u001b[0m \u001b[0;34m=\u001b[0m \u001b[0mpushout\u001b[0m\u001b[0;34m(\u001b[0m\u001b[0mR\u001b[0m\u001b[0;34m,\u001b[0m \u001b[0mS\u001b[0m\u001b[0;34m)\u001b[0m\u001b[0;34m\u001b[0m\u001b[0;34m\u001b[0m\u001b[0m\n\u001b[1;32m   1676\u001b[0m                 \u001b[0mcoerce_R\u001b[0m \u001b[0;34m=\u001b[0m \u001b[0mZ\u001b[0m\u001b[0;34m.\u001b[0m\u001b[0m_internal_coerce_map_from\u001b[0m\u001b[0;34m(\u001b[0m\u001b[0mR\u001b[0m\u001b[0;34m)\u001b[0m\u001b[0;34m\u001b[0m\u001b[0;34m\u001b[0m\u001b[0m\n\u001b[0;32m-> 1677\u001b[0;31m                 \u001b[0mcoerce_S\u001b[0m \u001b[0;34m=\u001b[0m \u001b[0mZ\u001b[0m\u001b[0;34m.\u001b[0m\u001b[0m_internal_coerce_map_from\u001b[0m\u001b[0;34m(\u001b[0m\u001b[0mS\u001b[0m\u001b[0;34m)\u001b[0m\u001b[0;34m\u001b[0m\u001b[0;34m\u001b[0m\u001b[0m\n\u001b[0m\u001b[1;32m   1678\u001b[0m                 \u001b[0;32mif\u001b[0m \u001b[0mcoerce_R\u001b[0m \u001b[0;32mis\u001b[0m \u001b[0;32mNone\u001b[0m\u001b[0;34m:\u001b[0m\u001b[0;34m\u001b[0m\u001b[0;34m\u001b[0m\u001b[0m\n\u001b[1;32m   1679\u001b[0m                     \u001b[0;32mraise\u001b[0m \u001b[0mTypeError\u001b[0m\u001b[0;34m(\u001b[0m\u001b[0;34m\"No coercion from %s to pushout %s\"\u001b[0m \u001b[0;34m%\u001b[0m \u001b[0;34m(\u001b[0m\u001b[0mR\u001b[0m\u001b[0;34m,\u001b[0m \u001b[0mZ\u001b[0m\u001b[0;34m)\u001b[0m\u001b[0;34m)\u001b[0m\u001b[0;34m\u001b[0m\u001b[0;34m\u001b[0m\u001b[0m\n",
      "\u001b[0;32m/usr/lib/python3/dist-packages/sage/structure/parent.pyx\u001b[0m in \u001b[0;36msage.structure.parent.Parent._internal_coerce_map_from (build/cythonized/sage/structure/parent.c:18438)\u001b[0;34m()\u001b[0m\n\u001b[1;32m   2125\u001b[0m         \u001b[0;32mreturn\u001b[0m \u001b[0mcopy\u001b[0m\u001b[0;34m(\u001b[0m\u001b[0mself\u001b[0m\u001b[0;34m.\u001b[0m\u001b[0m_internal_coerce_map_from\u001b[0m\u001b[0;34m(\u001b[0m\u001b[0mS\u001b[0m\u001b[0;34m)\u001b[0m\u001b[0;34m)\u001b[0m\u001b[0;34m\u001b[0m\u001b[0;34m\u001b[0m\u001b[0m\n\u001b[1;32m   2126\u001b[0m \u001b[0;34m\u001b[0m\u001b[0m\n\u001b[0;32m-> 2127\u001b[0;31m     \u001b[0mcpdef\u001b[0m \u001b[0m_internal_coerce_map_from\u001b[0m\u001b[0;34m(\u001b[0m\u001b[0mself\u001b[0m\u001b[0;34m,\u001b[0m \u001b[0mS\u001b[0m\u001b[0;34m)\u001b[0m\u001b[0;34m:\u001b[0m\u001b[0;34m\u001b[0m\u001b[0;34m\u001b[0m\u001b[0m\n\u001b[0m\u001b[1;32m   2128\u001b[0m         \"\"\"\n\u001b[1;32m   2129\u001b[0m         \u001b[0mReturn\u001b[0m \u001b[0mthe\u001b[0m \u001b[0;34m:\u001b[0m\u001b[0;32mclass\u001b[0m\u001b[0;34m:\u001b[0m\u001b[0;31m`\u001b[0m\u001b[0mMap\u001b[0m\u001b[0;31m`\u001b[0m \u001b[0mobject\u001b[0m \u001b[0mto\u001b[0m \u001b[0mcoerce\u001b[0m \u001b[0;32mfrom\u001b[0m\u001b[0;31m \u001b[0m\u001b[0;31m`\u001b[0m\u001b[0;31m`\u001b[0m\u001b[0mS\u001b[0m\u001b[0;31m`\u001b[0m\u001b[0;31m`\u001b[0m \u001b[0mto\u001b[0m\u001b[0;31m \u001b[0m\u001b[0;31m`\u001b[0m\u001b[0;31m`\u001b[0m\u001b[0mself\u001b[0m\u001b[0;31m`\u001b[0m\u001b[0;31m`\u001b[0m \u001b[0mthat\u001b[0m\u001b[0;34m\u001b[0m\u001b[0;34m\u001b[0m\u001b[0m\n",
      "\u001b[0;32m/usr/lib/python3/dist-packages/sage/structure/parent.pyx\u001b[0m in \u001b[0;36msage.structure.parent.Parent._internal_coerce_map_from (build/cythonized/sage/structure/parent.c:18064)\u001b[0;34m()\u001b[0m\n\u001b[1;32m   2216\u001b[0m         \u001b[0;32mtry\u001b[0m\u001b[0;34m:\u001b[0m\u001b[0;34m\u001b[0m\u001b[0;34m\u001b[0m\u001b[0m\n\u001b[1;32m   2217\u001b[0m             \u001b[0m_register_pair\u001b[0m\u001b[0;34m(\u001b[0m\u001b[0mself\u001b[0m\u001b[0;34m,\u001b[0m \u001b[0mS\u001b[0m\u001b[0;34m,\u001b[0m \u001b[0;34m\"coerce\"\u001b[0m\u001b[0;34m)\u001b[0m\u001b[0;34m\u001b[0m\u001b[0;34m\u001b[0m\u001b[0m\n\u001b[0;32m-> 2218\u001b[0;31m             \u001b[0mmor\u001b[0m \u001b[0;34m=\u001b[0m \u001b[0mself\u001b[0m\u001b[0;34m.\u001b[0m\u001b[0mdiscover_coerce_map_from\u001b[0m\u001b[0;34m(\u001b[0m\u001b[0mS\u001b[0m\u001b[0;34m)\u001b[0m\u001b[0;34m\u001b[0m\u001b[0;34m\u001b[0m\u001b[0m\n\u001b[0m\u001b[1;32m   2219\u001b[0m             \u001b[0;31m# if mor is not None:\u001b[0m\u001b[0;34m\u001b[0m\u001b[0;34m\u001b[0m\u001b[0m\n\u001b[1;32m   2220\u001b[0m             \u001b[0;31m#    # Need to check that this morphism does not connect previously unconnected parts of the coercion diagram\u001b[0m\u001b[0;34m\u001b[0m\u001b[0;34m\u001b[0m\u001b[0m\n",
      "\u001b[0;32m/usr/lib/python3/dist-packages/sage/structure/parent.pyx\u001b[0m in \u001b[0;36msage.structure.parent.Parent.discover_coerce_map_from (build/cythonized/sage/structure/parent.c:18573)\u001b[0;34m()\u001b[0m\n\u001b[1;32m   2353\u001b[0m                 \u001b[0;32mreturn\u001b[0m \u001b[0;34m(\u001b[0m\u001b[0;34m<\u001b[0m\u001b[0mParent\u001b[0m\u001b[0;34m>\u001b[0m\u001b[0mS\u001b[0m\u001b[0;34m)\u001b[0m\u001b[0;34m.\u001b[0m\u001b[0m_embedding\u001b[0m\u001b[0;34m\u001b[0m\u001b[0;34m\u001b[0m\u001b[0m\n\u001b[1;32m   2354\u001b[0m \u001b[0;34m\u001b[0m\u001b[0m\n\u001b[0;32m-> 2355\u001b[0;31m         \u001b[0muser_provided_mor\u001b[0m \u001b[0;34m=\u001b[0m \u001b[0mself\u001b[0m\u001b[0;34m.\u001b[0m\u001b[0m_coerce_map_from_\u001b[0m\u001b[0;34m(\u001b[0m\u001b[0mS\u001b[0m\u001b[0;34m)\u001b[0m\u001b[0;34m\u001b[0m\u001b[0;34m\u001b[0m\u001b[0m\n\u001b[0m\u001b[1;32m   2356\u001b[0m \u001b[0;34m\u001b[0m\u001b[0m\n\u001b[1;32m   2357\u001b[0m         \u001b[0;32mif\u001b[0m \u001b[0muser_provided_mor\u001b[0m \u001b[0;32mis\u001b[0m \u001b[0;32mNone\u001b[0m \u001b[0;32mor\u001b[0m \u001b[0muser_provided_mor\u001b[0m \u001b[0;32mis\u001b[0m \u001b[0;32mFalse\u001b[0m\u001b[0;34m:\u001b[0m\u001b[0;34m\u001b[0m\u001b[0;34m\u001b[0m\u001b[0m\n",
      "\u001b[0;32m/usr/lib/python3/dist-packages/sage/modules/module.pyx\u001b[0m in \u001b[0;36msage.modules.module.Module._coerce_map_from_ (build/cythonized/sage/modules/module.c:2359)\u001b[0;34m()\u001b[0m\n\u001b[1;32m    174\u001b[0m                 \u001b[0;32mand\u001b[0m \u001b[0mself\u001b[0m\u001b[0;34m.\u001b[0m\u001b[0mbase_ring\u001b[0m\u001b[0;34m(\u001b[0m\u001b[0;34m)\u001b[0m\u001b[0;34m.\u001b[0m\u001b[0mhas_coerce_map_from\u001b[0m\u001b[0;34m(\u001b[0m\u001b[0mM\u001b[0m\u001b[0;34m.\u001b[0m\u001b[0mbase_ring\u001b[0m\u001b[0;34m(\u001b[0m\u001b[0;34m)\u001b[0m\u001b[0;34m)\u001b[0m\u001b[0;34m\u001b[0m\u001b[0;34m\u001b[0m\u001b[0m\n\u001b[1;32m    175\u001b[0m                 and M.change_ring(self.base_ring()).is_submodule(self)):\n\u001b[0;32m--> 176\u001b[0;31m                 \u001b[0;32mreturn\u001b[0m \u001b[0mM\u001b[0m\u001b[0;34m.\u001b[0m\u001b[0mhom\u001b[0m\u001b[0;34m(\u001b[0m\u001b[0;34m[\u001b[0m\u001b[0mself\u001b[0m\u001b[0;34m.\u001b[0m\u001b[0m_element_constructor_\u001b[0m\u001b[0;34m(\u001b[0m\u001b[0mx\u001b[0m\u001b[0;34m)\u001b[0m \u001b[0;32mfor\u001b[0m \u001b[0mx\u001b[0m \u001b[0;32min\u001b[0m \u001b[0mM\u001b[0m\u001b[0;34m.\u001b[0m\u001b[0mgens\u001b[0m\u001b[0;34m(\u001b[0m\u001b[0;34m)\u001b[0m\u001b[0;34m]\u001b[0m\u001b[0;34m,\u001b[0m \u001b[0mself\u001b[0m\u001b[0;34m)\u001b[0m\u001b[0;34m\u001b[0m\u001b[0;34m\u001b[0m\u001b[0m\n\u001b[0m\u001b[1;32m    177\u001b[0m         \u001b[0;32mexcept\u001b[0m \u001b[0;34m(\u001b[0m\u001b[0mTypeError\u001b[0m\u001b[0;34m,\u001b[0m \u001b[0mNotImplementedError\u001b[0m\u001b[0;34m,\u001b[0m \u001b[0mAttributeError\u001b[0m\u001b[0;34m,\u001b[0m \u001b[0mArithmeticError\u001b[0m\u001b[0;34m)\u001b[0m\u001b[0;34m:\u001b[0m\u001b[0;34m\u001b[0m\u001b[0;34m\u001b[0m\u001b[0m\n\u001b[1;32m    178\u001b[0m             \u001b[0;32mpass\u001b[0m\u001b[0;34m\u001b[0m\u001b[0;34m\u001b[0m\u001b[0m\n",
      "\u001b[0;32m/usr/lib/python3/dist-packages/sage/modules/free_module.py\u001b[0m in \u001b[0;36m_element_constructor_\u001b[0;34m(self, x, coerce, copy, check)\u001b[0m\n\u001b[1;32m   1118\u001b[0m                 \u001b[0;32mreturn\u001b[0m \u001b[0mself\u001b[0m\u001b[0;34m.\u001b[0m\u001b[0melement_class\u001b[0m\u001b[0;34m(\u001b[0m\u001b[0mself\u001b[0m\u001b[0;34m,\u001b[0m \u001b[0mx\u001b[0m\u001b[0;34m,\u001b[0m \u001b[0mcoerce\u001b[0m\u001b[0;34m,\u001b[0m \u001b[0mcopy\u001b[0m\u001b[0;34m)\u001b[0m\u001b[0;34m\u001b[0m\u001b[0;34m\u001b[0m\u001b[0m\n\u001b[1;32m   1119\u001b[0m             \u001b[0;32mtry\u001b[0m\u001b[0;34m:\u001b[0m\u001b[0;34m\u001b[0m\u001b[0;34m\u001b[0m\u001b[0m\n\u001b[0;32m-> 1120\u001b[0;31m                 \u001b[0mc\u001b[0m \u001b[0;34m=\u001b[0m \u001b[0mself\u001b[0m\u001b[0;34m.\u001b[0m\u001b[0mcoordinates\u001b[0m\u001b[0;34m(\u001b[0m\u001b[0mx\u001b[0m\u001b[0;34m)\u001b[0m\u001b[0;34m\u001b[0m\u001b[0;34m\u001b[0m\u001b[0m\n\u001b[0m\u001b[1;32m   1121\u001b[0m                 \u001b[0mR\u001b[0m \u001b[0;34m=\u001b[0m \u001b[0mself\u001b[0m\u001b[0;34m.\u001b[0m\u001b[0mbase_ring\u001b[0m\u001b[0;34m(\u001b[0m\u001b[0;34m)\u001b[0m\u001b[0;34m\u001b[0m\u001b[0;34m\u001b[0m\u001b[0m\n\u001b[1;32m   1122\u001b[0m                 \u001b[0;32mfor\u001b[0m \u001b[0md\u001b[0m \u001b[0;32min\u001b[0m \u001b[0mc\u001b[0m\u001b[0;34m:\u001b[0m\u001b[0;34m\u001b[0m\u001b[0;34m\u001b[0m\u001b[0m\n",
      "\u001b[0;32m/usr/lib/python3/dist-packages/sage/modules/free_module.py\u001b[0m in \u001b[0;36mcoordinates\u001b[0;34m(self, v, check)\u001b[0m\n\u001b[1;32m   1866\u001b[0m             \u001b[0;34m[\u001b[0m\u001b[0;36m2\u001b[0m\u001b[0;34m,\u001b[0m \u001b[0;34m-\u001b[0m\u001b[0;36m1\u001b[0m\u001b[0;34m]\u001b[0m\u001b[0;34m\u001b[0m\u001b[0;34m\u001b[0m\u001b[0m\n\u001b[1;32m   1867\u001b[0m         \"\"\"\n\u001b[0;32m-> 1868\u001b[0;31m         \u001b[0;32mreturn\u001b[0m \u001b[0mself\u001b[0m\u001b[0;34m.\u001b[0m\u001b[0mcoordinate_vector\u001b[0m\u001b[0;34m(\u001b[0m\u001b[0mv\u001b[0m\u001b[0;34m,\u001b[0m \u001b[0mcheck\u001b[0m\u001b[0;34m=\u001b[0m\u001b[0mcheck\u001b[0m\u001b[0;34m)\u001b[0m\u001b[0;34m.\u001b[0m\u001b[0mlist\u001b[0m\u001b[0;34m(\u001b[0m\u001b[0;34m)\u001b[0m\u001b[0;34m\u001b[0m\u001b[0;34m\u001b[0m\u001b[0m\n\u001b[0m\u001b[1;32m   1869\u001b[0m \u001b[0;34m\u001b[0m\u001b[0m\n\u001b[1;32m   1870\u001b[0m     \u001b[0;32mdef\u001b[0m \u001b[0mcoordinate_vector\u001b[0m\u001b[0;34m(\u001b[0m\u001b[0mself\u001b[0m\u001b[0;34m,\u001b[0m \u001b[0mv\u001b[0m\u001b[0;34m,\u001b[0m \u001b[0mcheck\u001b[0m\u001b[0;34m=\u001b[0m\u001b[0;32mTrue\u001b[0m\u001b[0;34m)\u001b[0m\u001b[0;34m:\u001b[0m\u001b[0;34m\u001b[0m\u001b[0;34m\u001b[0m\u001b[0m\n",
      "\u001b[0;32m/usr/lib/python3/dist-packages/sage/modules/free_module.py\u001b[0m in \u001b[0;36mcoordinate_vector\u001b[0;34m(self, v, check)\u001b[0m\n\u001b[1;32m   6647\u001b[0m         \"\"\"\n\u001b[1;32m   6648\u001b[0m         \u001b[0;31m# First find the coordinates of v wrt echelon basis.\u001b[0m\u001b[0;34m\u001b[0m\u001b[0;34m\u001b[0m\u001b[0m\n\u001b[0;32m-> 6649\u001b[0;31m         \u001b[0mw\u001b[0m \u001b[0;34m=\u001b[0m \u001b[0mself\u001b[0m\u001b[0;34m.\u001b[0m\u001b[0mechelon_coordinate_vector\u001b[0m\u001b[0;34m(\u001b[0m\u001b[0mv\u001b[0m\u001b[0;34m,\u001b[0m \u001b[0mcheck\u001b[0m\u001b[0;34m=\u001b[0m\u001b[0mcheck\u001b[0m\u001b[0;34m)\u001b[0m\u001b[0;34m\u001b[0m\u001b[0;34m\u001b[0m\u001b[0m\n\u001b[0m\u001b[1;32m   6650\u001b[0m         \u001b[0;31m# Next use transformation matrix from echelon basis to\u001b[0m\u001b[0;34m\u001b[0m\u001b[0;34m\u001b[0m\u001b[0m\n\u001b[1;32m   6651\u001b[0m         \u001b[0;31m# user basis.\u001b[0m\u001b[0;34m\u001b[0m\u001b[0;34m\u001b[0m\u001b[0m\n",
      "\u001b[0;32m/usr/lib/python3/dist-packages/sage/modules/free_module.py\u001b[0m in \u001b[0;36mechelon_coordinate_vector\u001b[0;34m(self, v, check)\u001b[0m\n\u001b[1;32m   6709\u001b[0m             \u001b[0;34m(\u001b[0m\u001b[0;36m1\u001b[0m\u001b[0;34m,\u001b[0m \u001b[0;36m18\u001b[0m\u001b[0;34m)\u001b[0m\u001b[0;34m\u001b[0m\u001b[0;34m\u001b[0m\u001b[0m\n\u001b[1;32m   6710\u001b[0m         \"\"\"\n\u001b[0;32m-> 6711\u001b[0;31m         \u001b[0;32mreturn\u001b[0m \u001b[0mFreeModule\u001b[0m\u001b[0;34m(\u001b[0m\u001b[0mself\u001b[0m\u001b[0;34m.\u001b[0m\u001b[0mbase_ring\u001b[0m\u001b[0;34m(\u001b[0m\u001b[0;34m)\u001b[0m\u001b[0;34m.\u001b[0m\u001b[0mfraction_field\u001b[0m\u001b[0;34m(\u001b[0m\u001b[0;34m)\u001b[0m\u001b[0;34m,\u001b[0m \u001b[0mself\u001b[0m\u001b[0;34m.\u001b[0m\u001b[0mrank\u001b[0m\u001b[0;34m(\u001b[0m\u001b[0;34m)\u001b[0m\u001b[0;34m)\u001b[0m\u001b[0;34m(\u001b[0m\u001b[0mself\u001b[0m\u001b[0;34m.\u001b[0m\u001b[0mechelon_coordinates\u001b[0m\u001b[0;34m(\u001b[0m\u001b[0mv\u001b[0m\u001b[0;34m,\u001b[0m \u001b[0mcheck\u001b[0m\u001b[0;34m=\u001b[0m\u001b[0mcheck\u001b[0m\u001b[0;34m)\u001b[0m\u001b[0;34m)\u001b[0m\u001b[0;34m\u001b[0m\u001b[0;34m\u001b[0m\u001b[0m\n\u001b[0m\u001b[1;32m   6712\u001b[0m \u001b[0;34m\u001b[0m\u001b[0m\n\u001b[1;32m   6713\u001b[0m     \u001b[0;32mdef\u001b[0m \u001b[0mhas_user_basis\u001b[0m\u001b[0;34m(\u001b[0m\u001b[0mself\u001b[0m\u001b[0;34m)\u001b[0m\u001b[0;34m:\u001b[0m\u001b[0;34m\u001b[0m\u001b[0;34m\u001b[0m\u001b[0m\n",
      "\u001b[0;32m/usr/lib/python3/dist-packages/sage/modules/free_module.py\u001b[0m in \u001b[0;36mechelon_coordinates\u001b[0;34m(self, v, check)\u001b[0m\n\u001b[1;32m   6244\u001b[0m             \u001b[0;32mreturn\u001b[0m \u001b[0mx\u001b[0m\u001b[0;34m\u001b[0m\u001b[0;34m\u001b[0m\u001b[0m\n\u001b[1;32m   6245\u001b[0m         \u001b[0mlc\u001b[0m \u001b[0;34m=\u001b[0m \u001b[0mE\u001b[0m\u001b[0;34m.\u001b[0m\u001b[0mlinear_combination_of_rows\u001b[0m\u001b[0;34m(\u001b[0m\u001b[0mx\u001b[0m\u001b[0;34m)\u001b[0m\u001b[0;34m\u001b[0m\u001b[0;34m\u001b[0m\u001b[0m\n\u001b[0;32m-> 6246\u001b[0;31m         \u001b[0;32mif\u001b[0m \u001b[0mlist\u001b[0m\u001b[0;34m(\u001b[0m\u001b[0mlc\u001b[0m\u001b[0;34m)\u001b[0m \u001b[0;34m!=\u001b[0m \u001b[0mlist\u001b[0m\u001b[0;34m(\u001b[0m\u001b[0mv\u001b[0m\u001b[0;34m)\u001b[0m\u001b[0;34m:\u001b[0m\u001b[0;34m\u001b[0m\u001b[0;34m\u001b[0m\u001b[0m\n\u001b[0m\u001b[1;32m   6247\u001b[0m             \u001b[0;32mraise\u001b[0m \u001b[0mArithmeticError\u001b[0m\u001b[0;34m(\u001b[0m\u001b[0;34m\"vector is not in free module\"\u001b[0m\u001b[0;34m)\u001b[0m\u001b[0;34m\u001b[0m\u001b[0;34m\u001b[0m\u001b[0m\n\u001b[1;32m   6248\u001b[0m         \u001b[0;32mreturn\u001b[0m \u001b[0mx\u001b[0m\u001b[0;34m\u001b[0m\u001b[0;34m\u001b[0m\u001b[0m\n",
      "\u001b[0;32msrc/cysignals/signals.pyx\u001b[0m in \u001b[0;36mcysignals.signals.python_check_interrupt\u001b[0;34m()\u001b[0m\n",
      "\u001b[0;31mKeyboardInterrupt\u001b[0m: "
     ]
    }
   ],
   "source": [
    "\n",
    "\n",
    "q = 13\n",
    "phase = A = Matrix(GF(q),[[1,0,0,0,0,0],[0,1,0,0,0,0],[0,0,1,0,0,0],[0,0,0,1,0,0],[0,0,0,0,1,0],[0,1,0,0,0,0],[0,0,0,0,0,1],[1,1,1,1,1,1]]).transpose()#\n",
    "A = Matrix(GF(q),[[1,0,0,0,0,0],[0,1,0,0,0,0],[0,0,1,0,0,0],[0,0,0,1,0,0],[0,0,0,0,1,0],[0,1,0,0,0,0],[0,0,0,0,0,1],[1,1,1,1,1,1],[1,2,3,4,5,6]]).transpose()\n",
    "L0 = [[1,0,0,0,0,0],[0,1,0,0,0,0],[0,0,1,0,0,0],[0,0,0,1,0,0],[0,0,0,0,1,0],[0,1,0,0,0,0],[0,0,0,0,0,1],[1,1,1,1,1,1]]\n",
    "# Example usage\n",
    "\n",
    "#Create new projective metrix changing last vector\n",
    "\n",
    "vector_iterator = generate_unique_vectors_iterator(q,6)\n",
    "next(vector_iterator) #skip first vector\n",
    "new_vector = next(vector_iterator)\n",
    "L0.append(new_vector)\n",
    "\n",
    "B = Matrix(GF(q),L0).transpose()\n",
    "\n",
    "A_ext, A_ext_M = extended_family(A)\n",
    "\n",
    "#penso che le cose create in questo modo non siano linearmente equivalenti \n",
    "# they are most likely not linear equivalent because f defined by setting the first n+1 vectors.\n",
    "# they are matroid equivalent because the linear indipendence relation are the same (necessari condition for extendend equivalence)\n",
    "\n"
   ]
  },
  {
   "cell_type": "code",
   "execution_count": null,
   "metadata": {
    "vscode": {
     "languageId": "sage"
    }
   },
   "outputs": [
    {
     "data": {
      "text/plain": [
       "1 x 63 dense matrix over Finite Field of size 13 (use the '.str()' method to see the entries)"
      ]
     },
     "execution_count": 10,
     "metadata": {},
     "output_type": "execute_result"
    }
   ],
   "source": [
    "B_ext, B_ext_M = extended_family(B)"
   ]
  },
  {
   "cell_type": "code",
   "execution_count": null,
   "metadata": {
    "vscode": {
     "languageId": "sage"
    }
   },
   "outputs": [],
   "source": [
    "1+1"
   ]
  },
  {
   "cell_type": "code",
   "execution_count": null,
   "metadata": {
    "vscode": {
     "languageId": "sage"
    }
   },
   "outputs": [],
   "source": []
  }
 ],
 "metadata": {
  "kernelspec": {
   "display_name": "SageMath 9.5",
   "language": "sage",
   "name": "sagemath"
  },
  "language_info": {
   "codemirror_mode": {
    "name": "ipython",
    "version": 3
   },
   "file_extension": ".py",
   "mimetype": "text/x-python",
   "name": "python",
   "nbconvert_exporter": "python",
   "pygments_lexer": "ipython3",
   "version": "3.10.12"
  }
 },
 "nbformat": 4,
 "nbformat_minor": 4
}
